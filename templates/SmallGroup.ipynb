{
 "cells": [
  {
   "cell_type": "markdown",
   "metadata": {},
   "source": [
    "## Small Group Grading Summary\n",
    "\n",
    "- Your Grade : 3\n",
    "- Graded By  : Michael Fudge\n",
    "\n",
    "###  Feedback to Learner\n",
    "\n",
    "TODO\n",
    "\n",
    "\n",
    "See syllabus for criteria definitions:  \n",
    "[https://ist256.github.io/syllabus/#homework-h01-h13](https://ist256.github.io/syllabus/#homework-h01-h13)\n",
    "\n"
   ]
  },
  {
   "cell_type": "code",
   "execution_count": null,
   "metadata": {},
   "outputs": [],
   "source": []
  }
 ],
 "metadata": {
  "kernelspec": {
   "display_name": "Python 3 (ipykernel)",
   "language": "python",
   "name": "python3"
  },
  "language_info": {
   "codemirror_mode": {
    "name": "ipython",
    "version": 3
   },
   "file_extension": ".py",
   "mimetype": "text/x-python",
   "name": "python",
   "nbconvert_exporter": "python",
   "pygments_lexer": "ipython3",
   "version": "3.11.7"
  }
 },
 "nbformat": 4,
 "nbformat_minor": 4
}
