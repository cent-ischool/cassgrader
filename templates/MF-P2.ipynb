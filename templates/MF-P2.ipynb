{
 "cells": [
  {
   "cell_type": "markdown",
   "metadata": {},
   "source": [
    "## P2 Feedback\n",
    "\n",
    "- Your Grade : 0\n",
    "- Evaluator : Michael Fudge\n",
    "\n",
    "NO GRADE ONLY FEEDBACK, BUT SUBMISSION IS FACTORED INTO YOUR FINAL PROJECT GRADE\n",
    "\n",
    "###  Feedback to Learner\n",
    "\n",
    "- Milestone completed to satisfaction == YES\n",
    "- Complexity Level: A B C\n",
    "\n",
    "#### Comments / Suggestions:\n",
    "\n",
    "todo\n"
   ]
  },
  {
   "cell_type": "code",
   "execution_count": null,
   "metadata": {},
   "outputs": [],
   "source": []
  }
 ],
 "metadata": {
  "kernelspec": {
   "display_name": "Python 3 (ipykernel)",
   "language": "python",
   "name": "python3"
  },
  "language_info": {
   "codemirror_mode": {
    "name": "ipython",
    "version": 3
   },
   "file_extension": ".py",
   "mimetype": "text/x-python",
   "name": "python",
   "nbconvert_exporter": "python",
   "pygments_lexer": "ipython3",
   "version": "3.11.7"
  }
 },
 "nbformat": 4,
 "nbformat_minor": 4
}
