{
 "cells": [
  {
   "cell_type": "markdown",
   "metadata": {},
   "source": [
    "## P4 Feedback\n",
    "\n",
    "- Your Grade : 0\n",
    "- Evaluator : Michael Fudge\n",
    "\n",
    "###  Feedback to Learner\n",
    "\n",
    "Summary of Evaluation Criteria and comments\n",
    "\n",
    "    1. [ ] P1/P2 deliverable on time and to satisfaction\n",
    "    2. [ ] Instructor Feedback from P1/P2 taken into consideration\n",
    "    3. [ ] Coherent data story / well explained demo\n",
    "    4. [ ] Detailed problem analysis matches data story\n",
    "    5. [ ] Reflection mentions concepts learned in course, explains gaps in work.\n",
    "    6. [ ] The code written uses approaches learned in course\n",
    "    7. [ ] Polished final code uses interact as written in class\n",
    "    8. [ ] Code uses more than one dataset, merges datasets, uses API, etc\n",
    "\n",
    "\n",
    "Letter Grade: F\n",
    "\n",
    "https://ist256.com/syllabus/#grading-scale-for-project"
   ]
  },
  {
   "cell_type": "code",
   "execution_count": null,
   "metadata": {},
   "outputs": [],
   "source": []
  }
 ],
 "metadata": {
  "kernelspec": {
   "display_name": "Python 3 (ipykernel)",
   "language": "python",
   "name": "python3"
  },
  "language_info": {
   "codemirror_mode": {
    "name": "ipython",
    "version": 3
   },
   "file_extension": ".py",
   "mimetype": "text/x-python",
   "name": "python",
   "nbconvert_exporter": "python",
   "pygments_lexer": "ipython3",
   "version": "3.11.7"
  }
 },
 "nbformat": 4,
 "nbformat_minor": 4
}
