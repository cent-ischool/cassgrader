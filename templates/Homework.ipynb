{
 "cells": [
  {
   "cell_type": "markdown",
   "metadata": {},
   "source": [
    "## Homework Grading Summary\n",
    "\n",
    "- Your Grade : 3\n",
    "- Graded By  : Michael Fudge\n",
    "\n",
    "###  Feedback to Learner\n",
    "\n",
    "TODO\n",
    "\n",
    "### Criteria Met\n",
    "\n",
    "1. Problem Analysis Complete ==> ok\n",
    "2. Code Attempted ==> ok \n",
    "3. Code Well Written ==> ok \n",
    "4. Metacognition Complete ==> ok \n",
    "\n",
    "### Rubric\n",
    "\n",
    "- All 4 criteria met ==> 3\n",
    "- 3 criteria met ==> 2\n",
    "- 2 criteria met ==> 1\n",
    "- Less than 2 criteria met ==> 0\n",
    "\n",
    "See syllabus for criteria definitions:  \n",
    "[https://ist256.github.io/syllabus/#homework-h01-h13](https://ist256.github.io/syllabus/#homework-h01-h13)\n",
    "\n"
   ]
  },
  {
   "cell_type": "code",
   "execution_count": null,
   "metadata": {},
   "outputs": [],
   "source": []
  }
 ],
 "metadata": {
  "kernelspec": {
   "display_name": "Python 3 (ipykernel)",
   "language": "python",
   "name": "python3"
  },
  "language_info": {
   "codemirror_mode": {
    "name": "ipython",
    "version": 3
   },
   "file_extension": ".py",
   "mimetype": "text/x-python",
   "name": "python",
   "nbconvert_exporter": "python",
   "pygments_lexer": "ipython3",
   "version": "3.11.7"
  }
 },
 "nbformat": 4,
 "nbformat_minor": 4
}
