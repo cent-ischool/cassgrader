{
 "cells": [
  {
   "cell_type": "markdown",
   "metadata": {},
   "source": [
    "## Lab Grading Summary\n",
    "\n",
    "- Your Grade : 3\n",
    "- Graded By  : Michael Fudge\n",
    "\n",
    "###  Feedback to Learner\n",
    "\n",
    "TODO\n",
    "\n",
    "### Criteria Met\n",
    "\n",
    "1. Code Complete means all coding sections have an honest attempt to code the problem at hand. Please note this does not imply the code is correct. If the code is not correct, there is an adequate reflection with student questions. Again, its not about getting it right, but about assessing your comfort level with the material.\n",
    "2. Cells Executed means all code cells in the lab display evidence they were executed in your lab submission.\n",
    "3. Reflection Complete means the student made an honest effort to answer the open-ended questions in the lab adequately conveying what you have learned and what still confuses you. This should be evident in the work you have done to complete the lab.\n",
    "4. Recitation Attendance means the student was in attendance for recitation, able to discuss the lab.\n",
    "\n",
    "### Rubric\n",
    "\n",
    "- All 4 criteria met ==> 3\n",
    "- 3 criteria met ==> 2\n",
    "- 2 criteria met ==> 1\n",
    "- Less than 2 criteria met ==> 0\n",
    "\n"
   ]
  },
  {
   "cell_type": "code",
   "execution_count": null,
   "metadata": {},
   "outputs": [],
   "source": []
  }
 ],
 "metadata": {
  "kernelspec": {
   "display_name": "Python 3 (ipykernel)",
   "language": "python",
   "name": "python3"
  },
  "language_info": {
   "codemirror_mode": {
    "name": "ipython",
    "version": 3
   },
   "file_extension": ".py",
   "mimetype": "text/x-python",
   "name": "python",
   "nbconvert_exporter": "python",
   "pygments_lexer": "ipython3",
   "version": "3.11.7"
  }
 },
 "nbformat": 4,
 "nbformat_minor": 4
}
