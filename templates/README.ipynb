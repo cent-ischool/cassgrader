{
 "cells": [
  {
   "cell_type": "markdown",
   "metadata": {},
   "source": [
    "# Grading Templates\n",
    "\n",
    "## What is it? \n",
    "\n",
    "In this folder you create the notebook files you wish to use for your grading templates.\n",
    "\n",
    "A grading template is a notebook in which the first cell is appended to the top of each fetched student submission. \n",
    "\n",
    "When the LMS (Learning Management System) grades file is created, the header from each student's submission is included in the comments section so they can see their feedback in blackboard. \n",
    "\n",
    "## Minimum Requirements\n",
    "\n",
    "At the very minimum, each template must include:\n",
    "\n",
    "`- Your Grade : `\n",
    "\n",
    "the number after the `:` is extracted as used as the Grade for the LMS.\n",
    "\n",
    "This is the ONLY requirement.\n",
    "\n"
   ]
  },
  {
   "cell_type": "code",
   "execution_count": null,
   "metadata": {},
   "outputs": [],
   "source": []
  }
 ],
 "metadata": {
  "kernelspec": {
   "display_name": "Python 3 (ipykernel)",
   "language": "python",
   "name": "python3"
  },
  "language_info": {
   "codemirror_mode": {
    "name": "ipython",
    "version": 3
   },
   "file_extension": ".py",
   "mimetype": "text/x-python",
   "name": "python",
   "nbconvert_exporter": "python",
   "pygments_lexer": "ipython3",
   "version": "3.11.7"
  }
 },
 "nbformat": 4,
 "nbformat_minor": 4
}
