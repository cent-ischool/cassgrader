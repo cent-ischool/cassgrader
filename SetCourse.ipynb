{
 "cells": [
  {
   "cell_type": "code",
   "execution_count": 4,
   "id": "3d323f43-299e-4277-8015-0dc8146c46ac",
   "metadata": {
    "tags": []
   },
   "outputs": [],
   "source": [
    "\n",
    "def set_course():\n",
    "    import current_course as cc\n",
    "    from IPython.display import display, HTML, clear_output\n",
    "    import ipywidgets as widgets\n",
    "    from requests import HTTPError\n",
    "\n",
    "    from casstools.cass_client import CassClient\n",
    "\n",
    "    client = CassClient()\n",
    "    courses = sorted([c['object_name'].replace(\"/\", \"\") for c in client.get_courses()])\n",
    "\n",
    "    course = cc.read_current_course()\n",
    "    if course is None:\n",
    "        course = courses[0]\n",
    "    course_dropdown = widgets.Dropdown(\n",
    "        options=courses,\n",
    "        value=course,\n",
    "        description='Course:',\n",
    "        layout={'width': 'max-content'},\n",
    "        disabled=False\n",
    "    )\n",
    "\n",
    "    tabs = widgets.ToggleButtons(\n",
    "        options=['Assignments', 'Roster'],\n",
    "        description='',\n",
    "        disabled=False,\n",
    "        button_style='',\n",
    "        tooltips=['View Assignments', 'View Roster'],\n",
    "        layout={'width': 'max-content'}\n",
    "    )\n",
    "\n",
    "    def course_dropdown_on_change(*args):\n",
    "        tabs_on_click(*args)\n",
    "        cc.write_current_course(course_dropdown.value)\n",
    "\n",
    "    def tabs_on_click(*args):\n",
    "        with output:\n",
    "            clear_output()\n",
    "            display(course_dropdown.value)\n",
    "            if tabs.index == 0:\n",
    "                try:\n",
    "                    a_df = client.get_course_assignments(course_dropdown.value)\n",
    "                    display(a_df)\n",
    "                except HTTPError:\n",
    "                    display(\"No Assignments File uploaded\")\n",
    "            else:\n",
    "                try:\n",
    "                    r_df = client.get_course_roster(course_dropdown.value)\n",
    "                    display(r_df)\n",
    "                except HTTPError:\n",
    "                    display(\"No Roster File uploaded\")\n",
    "\n",
    "    # handlers\n",
    "    course_dropdown.observe(course_dropdown_on_change)\n",
    "    tabs.observe(tabs_on_click)\n",
    "    output = widgets.Output()\n",
    "\n",
    "    # layouts\n",
    "    display(HTML(\"<h3>Set Current Course</h3>\"))\n",
    "    display(course_dropdown)\n",
    "    display(tabs)\n",
    "    display(output)\n",
    "\n",
    "    # initialize\n",
    "    course_dropdown_on_change()\n",
    "    tabs_on_click()"
   ]
  },
  {
   "cell_type": "code",
   "execution_count": 5,
   "id": "97b91ae8-a8b0-461b-a6e5-8460b5ea67de",
   "metadata": {
    "tags": []
   },
   "outputs": [
    {
     "data": {
      "text/html": [
       "<h3>Set Current Course</h3>"
      ],
      "text/plain": [
       "<IPython.core.display.HTML object>"
      ]
     },
     "metadata": {},
     "output_type": "display_data"
    },
    {
     "data": {
      "application/vnd.jupyter.widget-view+json": {
       "model_id": "852c500877d341c1b82160dcd70f630f",
       "version_major": 2,
       "version_minor": 0
      },
      "text/plain": [
       "Dropdown(description='Course:', index=1, layout=Layout(width='max-content'), options=('ist256-spring2024', 'ts…"
      ]
     },
     "metadata": {},
     "output_type": "display_data"
    },
    {
     "data": {
      "application/vnd.jupyter.widget-view+json": {
       "model_id": "8f242076280544aea6a20876fa980998",
       "version_major": 2,
       "version_minor": 0
      },
      "text/plain": [
       "ToggleButtons(layout=Layout(width='max-content'), options=('Assignments', 'Roster'), tooltips=('View Assignmen…"
      ]
     },
     "metadata": {},
     "output_type": "display_data"
    },
    {
     "data": {
      "application/vnd.jupyter.widget-view+json": {
       "model_id": "70d8c45f70fd4c0e8fd3fa9869868ad8",
       "version_major": 2,
       "version_minor": 0
      },
      "text/plain": [
       "Output()"
      ]
     },
     "metadata": {},
     "output_type": "display_data"
    }
   ],
   "source": [
    "if __name__ == '__main__':\n",
    "    set_course()\n"
   ]
  },
  {
   "cell_type": "code",
   "execution_count": null,
   "id": "347a127f-aa4d-496b-a7bc-1258a9bec5f9",
   "metadata": {
    "tags": []
   },
   "outputs": [],
   "source": []
  },
  {
   "cell_type": "code",
   "execution_count": null,
   "id": "61ae79e3-714e-41f6-9099-f9a8df3d1afb",
   "metadata": {
    "tags": []
   },
   "outputs": [],
   "source": []
  },
  {
   "cell_type": "code",
   "execution_count": null,
   "id": "6bee15c9-b5e0-4c8a-9f8e-0f58ddecf7ac",
   "metadata": {},
   "outputs": [],
   "source": []
  },
  {
   "cell_type": "code",
   "execution_count": null,
   "id": "4a7de333-106c-41ed-9f82-ab0fdcc2ac57",
   "metadata": {},
   "outputs": [],
   "source": []
  }
 ],
 "metadata": {
  "kernelspec": {
   "display_name": "Python 3 (ipykernel)",
   "language": "python",
   "name": "python3"
  },
  "language_info": {
   "codemirror_mode": {
    "name": "ipython",
    "version": 3
   },
   "file_extension": ".py",
   "mimetype": "text/x-python",
   "name": "python",
   "nbconvert_exporter": "python",
   "pygments_lexer": "ipython3",
   "version": "3.11.7"
  }
 },
 "nbformat": 4,
 "nbformat_minor": 5
}
