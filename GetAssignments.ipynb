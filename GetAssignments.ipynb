{
 "cells": [
  {
   "cell_type": "code",
   "execution_count": 5,
   "id": "355c5f8a-9b1a-4d84-b143-0d9a80e6752f",
   "metadata": {},
   "outputs": [],
   "source": [
    "def get_assignments():\n",
    "\n",
    "    from IPython.display import display, HTML, clear_output\n",
    "    import ipywidgets as widgets\n",
    "    from datetime import datetime\n",
    "    from dateutil import parser, tz\n",
    "    import pandas as pd\n",
    "    import current_course as cc\n",
    "    import import_ipynb\n",
    "    import GradingTools as gt\n",
    "\n",
    "\n",
    "    #setup\n",
    "    course = cc.read_current_course()\n",
    "    if course is None:\n",
    "        raise Exception(\"You must select a current course first\")\n",
    "\n",
    "    templates = gt.get_templates()\n",
    "    assignments = gt.client.get_course_assignments(course)\n",
    "    roster = gt.client.get_course_roster(course)\n",
    "    units = assignments['unit_name'].unique().tolist()\n",
    "    assignment_names = assignments['assignment_name'].unique().tolist()\n",
    "    gt.initialize_directories()\n",
    "\n",
    "    # widgets\n",
    "    current_course_text = widgets.Text(\n",
    "        value=course,\n",
    "        description='Course:',\n",
    "        disabled=True\n",
    "    )\n",
    "\n",
    "    unit_dropdown = widgets.Dropdown(\n",
    "        options=units,\n",
    "        value=units[0],\n",
    "        description='Lesson:',\n",
    "        layout={'width': 'max-content'},\n",
    "        disabled=False\n",
    "    )\n",
    "\n",
    "    assignment_name_dropdown = widgets.Dropdown(\n",
    "        options=assignment_names,\n",
    "        value=assignment_names[0],\n",
    "        description='Assignment:',\n",
    "        layout={'width': 'max-content'},\n",
    "        disabled=False\n",
    "    )\n",
    "\n",
    "    assignment_date_text = widgets.Text(\n",
    "        value=assignments[ assignments['assignment_name'] == assignment_name_dropdown.value]['due_date'].values[0],\n",
    "        description='Due Date:',\n",
    "        disabled=True\n",
    "    )\n",
    "\n",
    "    assignment_points_text = widgets.Text(\n",
    "        value=str(assignments[ assignments['assignment_name'] == assignment_name_dropdown.value]['points'].values[0]),\n",
    "        description='Total Points:',\n",
    "        layout={'width': 'max-content'},\n",
    "        disabled=True\n",
    "    )\n",
    "\n",
    "    assignment_lms_column_text = widgets.Text(\n",
    "        value=str(assignments[ assignments['assignment_name'] == assignment_name_dropdown.value]['lms_column_id'].values[0]),\n",
    "        description='BB Column:',\n",
    "        layout={'width': 'max-content'},\n",
    "        disabled=True\n",
    "    )\n",
    "\n",
    "    template_dropdown = widgets.Dropdown(\n",
    "        options=templates,\n",
    "        value=templates[0],\n",
    "        description='Template:',\n",
    "        layout={'width': 'max-content'},\n",
    "        disabled=False\n",
    "    )\n",
    "\n",
    "\n",
    "    display_submissions_button = widgets.Button(\n",
    "        description=\"Display\",        \n",
    "        icon=\"table\",\n",
    "        button_style='info',\n",
    "        layout={'width': 'max-content'},\n",
    "        disabled = False)\n",
    "\n",
    "    fetch_submissions_button = widgets.Button(\n",
    "        description=\"Fetch\",        \n",
    "        icon=\"download\",\n",
    "        button_style='primary',\n",
    "        layout={'width': 'max-content'},\n",
    "        disabled = False)\n",
    "\n",
    "    open_submissions_folder_button = widgets.Button(\n",
    "        description=\"Open Folder\",\n",
    "        icon=\"folder\",\n",
    "        button_style='success',\n",
    "        layout={'width': 'max-content'},\n",
    "        disabled = False)\n",
    "\n",
    "    clear_submissions_button = widgets.Button(\n",
    "        description=\"Clear Folder\",\n",
    "        icon=\"trash\",\n",
    "        button_style='danger',\n",
    "        layout={'width': 'max-content'},\n",
    "        disabled = False)\n",
    "\n",
    "\n",
    "    output = widgets.Output()\n",
    "\n",
    "    # functions\n",
    "    def unit_dropdown_on_change(*args):\n",
    "        assignment_name_dropdown.options = assignments[assignments['unit_name'] == unit_dropdown.value].sort_values('assignment_name')['assignment_name'].unique().tolist()\n",
    "\n",
    "    def assignment_name_dropdown_on_change(*args):\n",
    "        assignment_date_text.value = assignments[ assignments['assignment_name'] == assignment_name_dropdown.value]['due_date'].values[0]\n",
    "        assignment_points_text.value=str(assignments[ assignments['assignment_name'] == assignment_name_dropdown.value]['points'].values[0])\n",
    "        assignment_lms_column_text.value=str(assignments[ assignments['assignment_name'] == assignment_name_dropdown.value]['lms_column_id'].values[0])\n",
    "        display_submissions_button_on_click()\n",
    "        #calc_status(unit_dropdown.value,assignment_dropdown.value,assignment_bbcolumn.value)\n",
    "\n",
    "    def fetch_submissions_button_on_click(*args):\n",
    "        with output:\n",
    "            clear_output()\n",
    "            gt.fetch_assignments(course, assignment_name_dropdown.value, template_dropdown.value)\n",
    "            display_df = gt.display_submissions(course, assignment_name_dropdown.value)\n",
    "            display(display_df[['view_submission', 'late','submitted_on','last_fetch','template_file']].style)\n",
    "\n",
    "    def open_submissions_folder_button_on_click(*args):\n",
    "        with output:\n",
    "            clear_output()\n",
    "            url = gt.get_assignments_folder_url(course, assignment_name_dropdown.value)\n",
    "            display(HTML( '<b>Click to Open</b>: <a href=\"{}\" rel=\"noopener noreferrer\" target=\"_blank\">{}</a>'.format(url,url) ) )\n",
    "\n",
    "    def clear_submissions_button_on_click(*args):\n",
    "        with output:\n",
    "            clear_output()\n",
    "            path = gt.clear_assignments_folder(course, assignment_name_dropdown.value)\n",
    "            display(f\"Folder {path} cleared.\")\n",
    "\n",
    "    def display_submissions_button_on_click(*args):\n",
    "        with output:\n",
    "            clear_output()\n",
    "            if assignment_name_dropdown.value.upper().startswith(\"LAB\"):\n",
    "                display_df = gt.display_lab_submissions(course, assignment_name_dropdown.value)\n",
    "            elif assignment_name_dropdown.value.upper().startswith(\"HW\"):\n",
    "                #TODO  Display Homework Submissions\n",
    "                display_df = gt.display_hw_submissions(course, assignment_name_dropdown.value)\n",
    "            else:\n",
    "                display_df = gt.display_submissions(course, assignment_name_dropdown.value)\n",
    "\n",
    "            if len(display_df) == 0:\n",
    "                display(\"Nothing do Display. Fetch first!\")\n",
    "            else:\n",
    "                if assignment_name_dropdown.value.upper().startswith(\"LAB\"):\n",
    "                    display(display_df[['view_submission', 'late','submitted_on','last_fetch','template_file', 'lab_check', 'comfort', 'questions']].style.set_properties(**{'text-align': 'left'}))\n",
    "                elif assignment_name_dropdown.value.upper().startswith(\"HW\"):\n",
    "                    #TODO: Homework Submissions Columns\n",
    "                    display(display_df[['view_submission', 'late','submitted_on','last_fetch','template_file', 'problem_analysis', 'homework_check', 'metacognition', 'comfort']].style.set_properties(**{'text-align': 'left'}))\n",
    "                else:\n",
    "                    display(display_df[['view_submission', 'late','submitted_on','last_fetch','template_file']].style.set_properties(**{'text-align': 'left'}))\n",
    "    # handlers\n",
    "    unit_dropdown.observe(unit_dropdown_on_change)\n",
    "    assignment_name_dropdown.observe(assignment_name_dropdown_on_change)\n",
    "    fetch_submissions_button.on_click(fetch_submissions_button_on_click)\n",
    "    clear_submissions_button.on_click(clear_submissions_button_on_click)\n",
    "    open_submissions_folder_button.on_click(open_submissions_folder_button_on_click)\n",
    "    display_submissions_button.on_click (display_submissions_button_on_click)\n",
    "\n",
    "    # layouts\n",
    "    display(HTML(f\"<h3>Get Course Assignments</h3>\"))\n",
    "    display(current_course_text)\n",
    "    display(widgets.HBox([unit_dropdown,assignment_name_dropdown]))\n",
    "    display(assignment_date_text)\n",
    "    display(widgets.HBox([assignment_points_text, assignment_lms_column_text]))\n",
    "    display(template_dropdown)\n",
    "    display(widgets.HBox([display_submissions_button,fetch_submissions_button,open_submissions_folder_button,clear_submissions_button]))\n",
    "    display(output)\n",
    "\n",
    "    #initialize\n",
    "    unit_dropdown_on_change()\n",
    "    assignment_name_dropdown_on_change()\n",
    "    display_submissions_button_on_click()\n"
   ]
  },
  {
   "cell_type": "code",
   "execution_count": 6,
   "id": "a5c0c6d6-cb44-4e1e-8967-7e70cc6544db",
   "metadata": {
    "tags": []
   },
   "outputs": [
    {
     "data": {
      "text/html": [
       "<h3>Get Assignments</h3>"
      ],
      "text/plain": [
       "<IPython.core.display.HTML object>"
      ]
     },
     "metadata": {},
     "output_type": "display_data"
    },
    {
     "data": {
      "application/vnd.jupyter.widget-view+json": {
       "model_id": "7f17fad257a24f6ea9c527c6c107e962",
       "version_major": 2,
       "version_minor": 0
      },
      "text/plain": [
       "Text(value='tst101-spring2024', description='Course:', disabled=True)"
      ]
     },
     "metadata": {},
     "output_type": "display_data"
    },
    {
     "data": {
      "application/vnd.jupyter.widget-view+json": {
       "model_id": "b9259bfd126944ee817be650f59ce446",
       "version_major": 2,
       "version_minor": 0
      },
      "text/plain": [
       "HBox(children=(Dropdown(description='Lesson:', layout=Layout(width='max-content'), options=('A', 'B'), value='…"
      ]
     },
     "metadata": {},
     "output_type": "display_data"
    },
    {
     "data": {
      "application/vnd.jupyter.widget-view+json": {
       "model_id": "922e104c248d43e7b1230e505ff2827c",
       "version_major": 2,
       "version_minor": 0
      },
      "text/plain": [
       "Text(value='2024-01-05 23:59', description='Due Date:', disabled=True)"
      ]
     },
     "metadata": {},
     "output_type": "display_data"
    },
    {
     "data": {
      "application/vnd.jupyter.widget-view+json": {
       "model_id": "262eb125525f4460bdc06cfc45f0abc2",
       "version_major": 2,
       "version_minor": 0
      },
      "text/plain": [
       "HBox(children=(Text(value='5', description='Total Points:', disabled=True, layout=Layout(width='max-content'))…"
      ]
     },
     "metadata": {},
     "output_type": "display_data"
    },
    {
     "data": {
      "application/vnd.jupyter.widget-view+json": {
       "model_id": "b55c790411b44ab69b87c289acb5f0a6",
       "version_major": 2,
       "version_minor": 0
      },
      "text/plain": [
       "Dropdown(description='Template:', layout=Layout(width='max-content'), options=('./templates/Homework.ipynb', '…"
      ]
     },
     "metadata": {},
     "output_type": "display_data"
    },
    {
     "data": {
      "application/vnd.jupyter.widget-view+json": {
       "model_id": "6d7b67a9b1ed471bb5b7072dc2c1dab9",
       "version_major": 2,
       "version_minor": 0
      },
      "text/plain": [
       "HBox(children=(Button(button_style='info', description='Display', icon='table', layout=Layout(width='max-conte…"
      ]
     },
     "metadata": {},
     "output_type": "display_data"
    },
    {
     "data": {
      "application/vnd.jupyter.widget-view+json": {
       "model_id": "50aee2e4a6b148339cd35255d59f583f",
       "version_major": 2,
       "version_minor": 0
      },
      "text/plain": [
       "Output()"
      ]
     },
     "metadata": {},
     "output_type": "display_data"
    }
   ],
   "source": [
    "if __name__ == '__main__':\n",
    "    get_assignments()"
   ]
  },
  {
   "cell_type": "code",
   "execution_count": null,
   "id": "f4903e49-e7f2-4635-a652-16c69e0cc38c",
   "metadata": {
    "tags": []
   },
   "outputs": [],
   "source": []
  },
  {
   "cell_type": "code",
   "execution_count": null,
   "id": "21fd5802-04bd-43db-af30-a0e1b1af0d65",
   "metadata": {},
   "outputs": [],
   "source": []
  },
  {
   "cell_type": "code",
   "execution_count": null,
   "id": "52b903d2-0181-4b81-a45e-23fce335e456",
   "metadata": {
    "tags": []
   },
   "outputs": [],
   "source": []
  },
  {
   "cell_type": "code",
   "execution_count": null,
   "id": "ae3503bc-601c-4335-aca9-08d12557833b",
   "metadata": {
    "tags": []
   },
   "outputs": [],
   "source": []
  },
  {
   "cell_type": "code",
   "execution_count": null,
   "id": "efa94f45-f14c-497c-a35b-6d55c36c724d",
   "metadata": {},
   "outputs": [],
   "source": []
  }
 ],
 "metadata": {
  "kernelspec": {
   "display_name": "Python 3 (ipykernel)",
   "language": "python",
   "name": "python3"
  },
  "language_info": {
   "codemirror_mode": {
    "name": "ipython",
    "version": 3
   },
   "file_extension": ".py",
   "mimetype": "text/x-python",
   "name": "python",
   "nbconvert_exporter": "python",
   "pygments_lexer": "ipython3",
   "version": "3.11.7"
  }
 },
 "nbformat": 4,
 "nbformat_minor": 5
}
