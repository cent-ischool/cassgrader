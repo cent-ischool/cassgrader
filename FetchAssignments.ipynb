{
 "cells": [
  {
   "cell_type": "code",
   "execution_count": 2,
   "id": "355c5f8a-9b1a-4d84-b143-0d9a80e6752f",
   "metadata": {},
   "outputs": [],
   "source": [
    "from IPython.display import display, HTML, clear_output\n",
    "import ipywidgets as widgets\n",
    "from datetime import datetime\n",
    "from dateutil import parser, tz\n",
    "import pandas as pd\n",
    "import current_course as cc\n",
    "import import_ipynb\n",
    "import GradingTools as gt"
   ]
  },
  {
   "cell_type": "code",
   "execution_count": null,
   "id": "a5c0c6d6-cb44-4e1e-8967-7e70cc6544db",
   "metadata": {
    "tags": []
   },
   "outputs": [],
   "source": []
  },
  {
   "cell_type": "code",
   "execution_count": 3,
   "id": "f4903e49-e7f2-4635-a652-16c69e0cc38c",
   "metadata": {
    "tags": []
   },
   "outputs": [
    {
     "data": {
      "text/html": [
       "<h3>Grade Assignments</h3>"
      ],
      "text/plain": [
       "<IPython.core.display.HTML object>"
      ]
     },
     "metadata": {},
     "output_type": "display_data"
    },
    {
     "data": {
      "application/vnd.jupyter.widget-view+json": {
       "model_id": "3cb2d99b56104d56af14ddf9549a23af",
       "version_major": 2,
       "version_minor": 0
      },
      "text/plain": [
       "Text(value='tst101-spring2024', description='Course:', disabled=True)"
      ]
     },
     "metadata": {},
     "output_type": "display_data"
    },
    {
     "data": {
      "application/vnd.jupyter.widget-view+json": {
       "model_id": "ad46377ac6474b28ad84280f7dd1c369",
       "version_major": 2,
       "version_minor": 0
      },
      "text/plain": [
       "Dropdown(description='Lesson:', layout=Layout(width='max-content'), options=('A', 'B'), value='A')"
      ]
     },
     "metadata": {},
     "output_type": "display_data"
    },
    {
     "data": {
      "application/vnd.jupyter.widget-view+json": {
       "model_id": "f6e4f3cfa32f4561bfad20016c4e21b7",
       "version_major": 2,
       "version_minor": 0
      },
      "text/plain": [
       "Dropdown(description='Assignment:', layout=Layout(width='max-content'), options=('A1.ipynb', 'A2.ipynb', 'B1.i…"
      ]
     },
     "metadata": {},
     "output_type": "display_data"
    },
    {
     "data": {
      "application/vnd.jupyter.widget-view+json": {
       "model_id": "4d917fdec6bd4ebcb6a7d07b025e4466",
       "version_major": 2,
       "version_minor": 0
      },
      "text/plain": [
       "Text(value='2024-01-05 23:59', description='Due Date:', disabled=True)"
      ]
     },
     "metadata": {},
     "output_type": "display_data"
    },
    {
     "data": {
      "application/vnd.jupyter.widget-view+json": {
       "model_id": "74b15b40811a4b2ba9dc0135a936a18d",
       "version_major": 2,
       "version_minor": 0
      },
      "text/plain": [
       "Text(value='5', description='Total Points:', disabled=True)"
      ]
     },
     "metadata": {},
     "output_type": "display_data"
    },
    {
     "data": {
      "application/vnd.jupyter.widget-view+json": {
       "model_id": "6fb79187ea064bf48a4f72887b9ac496",
       "version_major": 2,
       "version_minor": 0
      },
      "text/plain": [
       "Text(value='342634', description='BB Column:', disabled=True)"
      ]
     },
     "metadata": {},
     "output_type": "display_data"
    },
    {
     "data": {
      "application/vnd.jupyter.widget-view+json": {
       "model_id": "e00488e1b150446ca5100b61358df154",
       "version_major": 2,
       "version_minor": 0
      },
      "text/plain": [
       "Text(value='TODO', description='Status:', disabled=True)"
      ]
     },
     "metadata": {},
     "output_type": "display_data"
    },
    {
     "data": {
      "application/vnd.jupyter.widget-view+json": {
       "model_id": "22bc29e4c4f04fecb34f13f92916ad02",
       "version_major": 2,
       "version_minor": 0
      },
      "text/plain": [
       "HBox(children=(Button(button_style='primary', description='Fetch ', icon='download', layout=Layout(width='max-…"
      ]
     },
     "metadata": {},
     "output_type": "display_data"
    },
    {
     "data": {
      "application/vnd.jupyter.widget-view+json": {
       "model_id": "b96d77dd94f14cbba9c20d060022d130",
       "version_major": 2,
       "version_minor": 0
      },
      "text/plain": [
       "Output()"
      ]
     },
     "metadata": {},
     "output_type": "display_data"
    }
   ],
   "source": [
    "\n",
    "#setup\n",
    "course = cc.read_current_course()\n",
    "if course is None:\n",
    "    raise Exception(\"You must select a current course first\")\n",
    "\n",
    "assignments = gt.client.get_course_assignments(course)\n",
    "roster = gt.client.get_course_roster(course)\n",
    "units = assignments['unit_name'].unique().tolist()\n",
    "assignment_names = assignments['assignment_name'].unique().tolist()\n",
    "gt.initialize_directories()\n",
    "\n",
    "# widgets\n",
    "current_course_text = widgets.Text(\n",
    "    value=course,\n",
    "    description='Course:',\n",
    "    disabled=True\n",
    ")\n",
    "\n",
    "unit_dropdown = widgets.Dropdown(\n",
    "    options=units,\n",
    "    value=units[0],\n",
    "    description='Lesson:',\n",
    "    layout={'width': 'max-content'},\n",
    "    disabled=False\n",
    ")\n",
    "\n",
    "assignment_name_dropdown = widgets.Dropdown(\n",
    "    options=assignment_names,\n",
    "    value=assignment_names[0],\n",
    "    description='Assignment:',\n",
    "    layout={'width': 'max-content'},\n",
    "    disabled=False\n",
    ")\n",
    "\n",
    "assignment_date_text = widgets.Text(\n",
    "    value=assignments[ assignments['assignment_name'] == assignment_name_dropdown.value]['due_date'].values[0],\n",
    "    description='Due Date:',\n",
    "    disabled=True\n",
    ")\n",
    "\n",
    "assignment_points_text = widgets.Text(\n",
    "    value=str(assignments[ assignments['assignment_name'] == assignment_name_dropdown.value]['points'].values[0]),\n",
    "    description='Total Points:',\n",
    "    disabled=True\n",
    ")\n",
    "\n",
    "assignment_lms_column_text = widgets.Text(\n",
    "    value=str(assignments[ assignments['assignment_name'] == assignment_name_dropdown.value]['lms_column_id'].values[0]),\n",
    "    description='BB Column:',\n",
    "    disabled=True\n",
    ")\n",
    "\n",
    "assignment_status_text = widgets.Text(\n",
    "    value=\"TODO\",\n",
    "    description='Status:',\n",
    "    disabled=True\n",
    ")\n",
    "\n",
    "fetch_submissions_button = widgets.Button(\n",
    "    description=\"Fetch \",        \n",
    "    icon=\"download\",\n",
    "    button_style='primary',\n",
    "    layout={'width': 'max-content'},\n",
    "    disabled = False)\n",
    "\n",
    "output = widgets.Output()\n",
    "\n",
    "# functions\n",
    "def unit_dropdown_on_change(*args):\n",
    "    assignment_name_dropdown.options = assignments[assignments['unit_name'] == unit_dropdown.value].sort_values('assignment_name')['assignment_name'].unique().tolist()\n",
    "\n",
    "def assignment_name_dropdown_on_change(*args):\n",
    "    assignment_date_text.value = assignments[ assignments['assignment_name'] == assignment_name_dropdown.value]['due_date'].values[0]\n",
    "    assignment_points_text.value=str(assignments[ assignments['assignment_name'] == assignment_name_dropdown.value]['points'].values[0])\n",
    "    assignment_lms_column_text.value=str(assignments[ assignments['assignment_name'] == assignment_name_dropdown.value]['lms_column_id'].values[0])\n",
    "    assignment_status_text.value= \"TODO:\"\n",
    "    #calc_status(unit_dropdown.value,assignment_dropdown.value,assignment_bbcolumn.value)\n",
    "\n",
    "def fetch_submissions_button_on_click(*args):\n",
    "    with output:\n",
    "        clear_output()\n",
    "        display(roster)\n",
    "    \n",
    "    \n",
    "# handlers\n",
    "unit_dropdown.observe(unit_dropdown_on_change)\n",
    "assignment_name_dropdown.observe(assignment_name_dropdown_on_change)\n",
    "fetch_submissions_button.on_click(fetch_submissions_button_on_click)\n",
    "\n",
    "# layouts\n",
    "display(HTML(f\"<h3>Grade Assignments</h3>\"))\n",
    "display(current_course_text)\n",
    "display(unit_dropdown)\n",
    "display(assignment_name_dropdown)\n",
    "display(assignment_date_text)\n",
    "display(assignment_points_text)\n",
    "display(assignment_lms_column_text)\n",
    "display(assignment_status_text)\n",
    "display(widgets.HBox([fetch_submissions_button]))\n",
    "display(output)\n",
    "\n",
    "#initialize\n",
    "assignment_name_dropdown_on_change()\n"
   ]
  },
  {
   "cell_type": "code",
   "execution_count": null,
   "id": "21fd5802-04bd-43db-af30-a0e1b1af0d65",
   "metadata": {},
   "outputs": [],
   "source": []
  }
 ],
 "metadata": {
  "kernelspec": {
   "display_name": "Python 3 (ipykernel)",
   "language": "python",
   "name": "python3"
  },
  "language_info": {
   "codemirror_mode": {
    "name": "ipython",
    "version": 3
   },
   "file_extension": ".py",
   "mimetype": "text/x-python",
   "name": "python",
   "nbconvert_exporter": "python",
   "pygments_lexer": "ipython3",
   "version": "3.11.7"
  }
 },
 "nbformat": 4,
 "nbformat_minor": 5
}
