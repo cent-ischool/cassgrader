{
 "cells": [
  {
   "cell_type": "code",
   "execution_count": 1,
   "id": "f0ab80e0-a7b0-4d04-984f-fa0059854a22",
   "metadata": {
    "tags": []
   },
   "outputs": [],
   "source": [
    "def create_blackboard_file():\n",
    "    from IPython.display import display, HTML, clear_output\n",
    "    import ipywidgets as widgets\n",
    "    import pandas as pd\n",
    "    import current_course as cc\n",
    "    import import_ipynb\n",
    "    import GradingTools as gt\n",
    "\n",
    "\n",
    "    #setup\n",
    "    course = cc.read_current_course()\n",
    "    if course is None:\n",
    "        raise Exception(\"You must select a current course first\")\n",
    "\n",
    "    templates = gt.get_templates()\n",
    "    assignments = gt.client.get_course_assignments(course)\n",
    "    roster = gt.client.get_course_roster(course)\n",
    "    units = assignments['unit_name'].unique().tolist()\n",
    "    assignment_names = assignments['assignment_name'].unique().tolist()\n",
    "    gt.initialize_directories()\n",
    "\n",
    "    # widgets\n",
    "    current_course_text = widgets.Text(\n",
    "        value=course,\n",
    "        description='Course:',\n",
    "        disabled=True\n",
    "    )\n",
    "\n",
    "    unit_dropdown = widgets.Dropdown(\n",
    "        options=units,\n",
    "        value=units[0],\n",
    "        description='Lesson:',\n",
    "        layout={'width': 'max-content'},\n",
    "        disabled=False\n",
    "    )\n",
    "\n",
    "    assignment_name_dropdown = widgets.Dropdown(\n",
    "        options=assignment_names,\n",
    "        value=assignment_names[0],\n",
    "        description='Assignment:',\n",
    "        layout={'width': 'max-content'},\n",
    "        disabled=False\n",
    "    )\n",
    "\n",
    "    assignment_date_text = widgets.Text(\n",
    "        value=assignments[ assignments['assignment_name'] == assignment_name_dropdown.value]['due_date'].values[0],\n",
    "        description='Due Date:',\n",
    "        disabled=True\n",
    "    )\n",
    "\n",
    "    assignment_points_text = widgets.Text(\n",
    "        value=str(assignments[ assignments['assignment_name'] == assignment_name_dropdown.value]['points'].values[0]),\n",
    "        description='Total Points:',\n",
    "        layout={'width': 'max-content'},\n",
    "        disabled=True\n",
    "    )\n",
    "\n",
    "    assignment_lms_column_text = widgets.Text(\n",
    "        value=str(assignments[ assignments['assignment_name'] == assignment_name_dropdown.value]['lms_column_id'].values[0]),\n",
    "        description='BB Column:',\n",
    "        layout={'width': 'max-content'},\n",
    "        disabled=True\n",
    "    )\n",
    "\n",
    "    create_file_button = widgets.Button(\n",
    "        description=\"Create Blackboard File\",\n",
    "        icon=\"save\",\n",
    "        button_style='success',\n",
    "        layout={'width': 'max-content'},\n",
    "        disabled = False)\n",
    "\n",
    "    output = widgets.Output()\n",
    "\n",
    "    # functions\n",
    "    def unit_dropdown_on_change(*args):\n",
    "        assignment_name_dropdown.options = assignments[assignments['unit_name'] == unit_dropdown.value].sort_values('assignment_name')['assignment_name'].unique().tolist()\n",
    "\n",
    "    def assignment_name_dropdown_on_change(*args):\n",
    "        assignment_date_text.value = assignments[ assignments['assignment_name'] == assignment_name_dropdown.value]['due_date'].values[0]\n",
    "        assignment_points_text.value=str(assignments[ assignments['assignment_name'] == assignment_name_dropdown.value]['points'].values[0])\n",
    "        assignment_lms_column_text.value=str(assignments[ assignments['assignment_name'] == assignment_name_dropdown.value]['lms_column_id'].values[0])\n",
    "\n",
    "    def create_file_button_on_click(*args):\n",
    "        count, bbfilename, df = gt.create_bb_file(course, assignment_name_dropdown.value)\n",
    "        with output:\n",
    "            clear_output()\n",
    "            display(HTML(f\"<p>{count} grades written.</p>\"))\n",
    "            display(HTML(f\"<p>File: {bbfilename}</p>\"))\n",
    "            display(df)\n",
    "\n",
    "\n",
    "    # handlers\n",
    "    unit_dropdown.observe(unit_dropdown_on_change)\n",
    "    assignment_name_dropdown.observe(assignment_name_dropdown_on_change)\n",
    "    create_file_button.on_click(create_file_button_on_click)\n",
    "\n",
    "\n",
    "    # layouts\n",
    "    display(HTML(f\"<h3>Create Blackboard File</h3>\"))\n",
    "    display(current_course_text)\n",
    "    display(widgets.HBox([unit_dropdown,assignment_name_dropdown]))\n",
    "    display(assignment_date_text)\n",
    "    display(assignment_points_text)\n",
    "    display(assignment_lms_column_text)\n",
    "    display(widgets.HBox([create_file_button]))\n",
    "    display(output)\n",
    "\n",
    "\n",
    "    #initialize\n",
    "    unit_dropdown_on_change()\n",
    "    assignment_name_dropdown_on_change()\n",
    "\n"
   ]
  },
  {
   "cell_type": "code",
   "execution_count": 2,
   "id": "444a0374-6669-4295-8a64-491f9a50e2cc",
   "metadata": {
    "tags": []
   },
   "outputs": [
    {
     "name": "stdout",
     "output_type": "stream",
     "text": [
      "importing Jupyter notebook from GradingTools.ipynb\n"
     ]
    },
    {
     "data": {
      "text/html": [
       "<h3>Create Blackboard File</h3>"
      ],
      "text/plain": [
       "<IPython.core.display.HTML object>"
      ]
     },
     "metadata": {},
     "output_type": "display_data"
    },
    {
     "data": {
      "application/vnd.jupyter.widget-view+json": {
       "model_id": "e2a2ee130ebe4b15ae9e34712cdaee9a",
       "version_major": 2,
       "version_minor": 0
      },
      "text/plain": [
       "Text(value='ist256-spring2024', description='Course:', disabled=True)"
      ]
     },
     "metadata": {},
     "output_type": "display_data"
    },
    {
     "data": {
      "application/vnd.jupyter.widget-view+json": {
       "model_id": "11bfd75a07dc4b25a6e508d4b646d61a",
       "version_major": 2,
       "version_minor": 0
      },
      "text/plain": [
       "HBox(children=(Dropdown(description='Lesson:', layout=Layout(width='max-content'), options=('01-Intro', '02-Va…"
      ]
     },
     "metadata": {},
     "output_type": "display_data"
    },
    {
     "data": {
      "application/vnd.jupyter.widget-view+json": {
       "model_id": "f2621f06be114a029e6d203f6117efb7",
       "version_major": 2,
       "version_minor": 0
      },
      "text/plain": [
       "Text(value='2024-01-23 23:59', description='Due Date:', disabled=True)"
      ]
     },
     "metadata": {},
     "output_type": "display_data"
    },
    {
     "data": {
      "application/vnd.jupyter.widget-view+json": {
       "model_id": "d3619dc3dcb74b15beece9e0da880d1b",
       "version_major": 2,
       "version_minor": 0
      },
      "text/plain": [
       "Text(value='3', description='Total Points:', disabled=True, layout=Layout(width='max-content'))"
      ]
     },
     "metadata": {},
     "output_type": "display_data"
    },
    {
     "data": {
      "application/vnd.jupyter.widget-view+json": {
       "model_id": "b260685138464a8a8815656746a1ecb5",
       "version_major": 2,
       "version_minor": 0
      },
      "text/plain": [
       "Text(value='L01', description='BB Column:', disabled=True, layout=Layout(width='max-content'))"
      ]
     },
     "metadata": {},
     "output_type": "display_data"
    },
    {
     "data": {
      "application/vnd.jupyter.widget-view+json": {
       "model_id": "db3ab43498cc4805aaa09c1b805cda95",
       "version_major": 2,
       "version_minor": 0
      },
      "text/plain": [
       "HBox(children=(Button(button_style='success', description='Create Blackboard File', icon='save', layout=Layout…"
      ]
     },
     "metadata": {},
     "output_type": "display_data"
    },
    {
     "data": {
      "application/vnd.jupyter.widget-view+json": {
       "model_id": "ac9b5c57f4344986bdf0cc90b9aaf53a",
       "version_major": 2,
       "version_minor": 0
      },
      "text/plain": [
       "Output()"
      ]
     },
     "metadata": {},
     "output_type": "display_data"
    }
   ],
   "source": [
    "if __name__ == '__main__':\n",
    "    create_blackboard_file()"
   ]
  },
  {
   "cell_type": "code",
   "execution_count": null,
   "id": "6c486d48-e6d1-4689-8f02-eadb25e5aa5f",
   "metadata": {},
   "outputs": [],
   "source": []
  }
 ],
 "metadata": {
  "kernelspec": {
   "display_name": "Python 3 (ipykernel)",
   "language": "python",
   "name": "python3"
  },
  "language_info": {
   "codemirror_mode": {
    "name": "ipython",
    "version": 3
   },
   "file_extension": ".py",
   "mimetype": "text/x-python",
   "name": "python",
   "nbconvert_exporter": "python",
   "pygments_lexer": "ipython3",
   "version": "3.11.7"
  }
 },
 "nbformat": 4,
 "nbformat_minor": 5
}
