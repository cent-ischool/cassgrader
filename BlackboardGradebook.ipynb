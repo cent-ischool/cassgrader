{
 "cells": [
  {
   "cell_type": "code",
   "execution_count": 2,
   "id": "f0ab80e0-a7b0-4d04-984f-fa0059854a22",
   "metadata": {
    "tags": []
   },
   "outputs": [],
   "source": [
    "def create_blackboard_file():\n",
    "    from IPython.display import display, HTML, clear_output\n",
    "    import ipywidgets as widgets\n",
    "    import pandas as pd\n",
    "    import current_course as cc\n",
    "    import import_ipynb\n",
    "    import GradingTools as gt\n",
    "\n",
    "\n",
    "    #setup\n",
    "    course = cc.read_current_course()\n",
    "    if course is None:\n",
    "        raise Exception(\"You must select a current course first\")\n",
    "\n",
    "    templates = gt.get_templates()\n",
    "    assignments = gt.client.get_course_assignments(course)\n",
    "    roster = gt.client.get_course_roster(course)\n",
    "    units = assignments['unit_name'].unique().tolist()\n",
    "    assignment_names = assignments['assignment_name'].unique().tolist()\n",
    "    gt.initialize_directories()\n",
    "\n",
    "    # widgets\n",
    "    current_course_text = widgets.Text(\n",
    "        value=course,\n",
    "        description='Course:',\n",
    "        disabled=True\n",
    "    )\n",
    "\n",
    "    unit_dropdown = widgets.Dropdown(\n",
    "        options=units,\n",
    "        value=units[0],\n",
    "        description='Lesson:',\n",
    "        layout={'width': 'max-content'},\n",
    "        disabled=False\n",
    "    )\n",
    "\n",
    "    assignment_name_dropdown = widgets.Dropdown(\n",
    "        options=assignment_names,\n",
    "        value=assignment_names[0],\n",
    "        description='Assignment:',\n",
    "        layout={'width': 'max-content'},\n",
    "        disabled=False\n",
    "    )\n",
    "\n",
    "    assignment_date_text = widgets.Text(\n",
    "        value=assignments[ assignments['assignment_name'] == assignment_name_dropdown.value]['due_date'].values[0],\n",
    "        description='Due Date:',\n",
    "        disabled=True\n",
    "    )\n",
    "\n",
    "    assignment_points_text = widgets.Text(\n",
    "        value=str(assignments[ assignments['assignment_name'] == assignment_name_dropdown.value]['points'].values[0]),\n",
    "        description='Total Points:',\n",
    "        layout={'width': 'max-content'},\n",
    "        disabled=True\n",
    "    )\n",
    "\n",
    "    assignment_lms_column_text = widgets.Text(\n",
    "        value=str(assignments[ assignments['assignment_name'] == assignment_name_dropdown.value]['lms_column_id'].values[0]),\n",
    "        description='BB Column:',\n",
    "        layout={'width': 'max-content'},\n",
    "        disabled=True\n",
    "    )\n",
    "\n",
    "    create_file_button = widgets.Button(\n",
    "        description=\"Create Blackboard File\",\n",
    "        icon=\"save\",\n",
    "        button_style='success',\n",
    "        layout={'width': 'max-content'},\n",
    "        disabled = False)\n",
    "\n",
    "    output = widgets.Output()\n",
    "\n",
    "    # functions\n",
    "    def unit_dropdown_on_change(*args):\n",
    "        assignment_name_dropdown.options = assignments[assignments['unit_name'] == unit_dropdown.value].sort_values('assignment_name')['assignment_name'].unique().tolist()\n",
    "\n",
    "    def assignment_name_dropdown_on_change(*args):\n",
    "        assignment_date_text.value = assignments[ assignments['assignment_name'] == assignment_name_dropdown.value]['due_date'].values[0]\n",
    "        assignment_points_text.value=str(assignments[ assignments['assignment_name'] == assignment_name_dropdown.value]['points'].values[0])\n",
    "        assignment_lms_column_text.value=str(assignments[ assignments['assignment_name'] == assignment_name_dropdown.value]['lms_column_id'].values[0])\n",
    "\n",
    "    def create_file_button_on_click(*args):\n",
    "        count, bbfilename, df = gt.create_bb_file(course, assignment_name_dropdown.value)\n",
    "        with output:\n",
    "            clear_output()\n",
    "            display(HTML(f\"<p>{count} grades written.</p>\"))\n",
    "            display(HTML(f\"<p>File: {bbfilename}</p>\"))\n",
    "            display(df)\n",
    "\n",
    "\n",
    "    # handlers\n",
    "    unit_dropdown.observe(unit_dropdown_on_change)\n",
    "    assignment_name_dropdown.observe(assignment_name_dropdown_on_change)\n",
    "    create_file_button.on_click(create_file_button_on_click)\n",
    "\n",
    "\n",
    "    # layouts\n",
    "    display(HTML(f\"<h3>Create Blackboard File</h3>\"))\n",
    "    display(current_course_text)\n",
    "    display(widgets.HBox([unit_dropdown,assignment_name_dropdown]))\n",
    "    display(assignment_date_text)\n",
    "    display(assignment_points_text)\n",
    "    display(assignment_lms_column_text)\n",
    "    display(widgets.HBox([create_file_button]))\n",
    "    display(output)\n",
    "\n",
    "\n",
    "    #initialize\n",
    "    unit_dropdown_on_change()\n",
    "    assignment_name_dropdown_on_change()\n",
    "\n"
   ]
  },
  {
   "cell_type": "code",
   "execution_count": 3,
   "id": "444a0374-6669-4295-8a64-491f9a50e2cc",
   "metadata": {
    "tags": []
   },
   "outputs": [
    {
     "data": {
      "text/html": [
       "<h3>Create Blackboard File</h3>"
      ],
      "text/plain": [
       "<IPython.core.display.HTML object>"
      ]
     },
     "metadata": {},
     "output_type": "display_data"
    },
    {
     "data": {
      "application/vnd.jupyter.widget-view+json": {
       "model_id": "0e9fa1c630da4c079d39b8ffb40df51a",
       "version_major": 2,
       "version_minor": 0
      },
      "text/plain": [
       "Text(value='tst101-spring2024', description='Course:', disabled=True)"
      ]
     },
     "metadata": {},
     "output_type": "display_data"
    },
    {
     "data": {
      "application/vnd.jupyter.widget-view+json": {
       "model_id": "b23bf4e3798f4ac09a7fe1fcde5aefaf",
       "version_major": 2,
       "version_minor": 0
      },
      "text/plain": [
       "HBox(children=(Dropdown(description='Lesson:', layout=Layout(width='max-content'), options=('A', 'B'), value='…"
      ]
     },
     "metadata": {},
     "output_type": "display_data"
    },
    {
     "data": {
      "application/vnd.jupyter.widget-view+json": {
       "model_id": "41e76cdf03d549b6a8c3b3f7c358b8dd",
       "version_major": 2,
       "version_minor": 0
      },
      "text/plain": [
       "Text(value='2024-01-05 23:59', description='Due Date:', disabled=True)"
      ]
     },
     "metadata": {},
     "output_type": "display_data"
    },
    {
     "data": {
      "application/vnd.jupyter.widget-view+json": {
       "model_id": "dd4c77f5845c4afdaeaf405e9bffb70b",
       "version_major": 2,
       "version_minor": 0
      },
      "text/plain": [
       "Text(value='5', description='Total Points:', disabled=True, layout=Layout(width='max-content'))"
      ]
     },
     "metadata": {},
     "output_type": "display_data"
    },
    {
     "data": {
      "application/vnd.jupyter.widget-view+json": {
       "model_id": "073f282cb0ec4238825fbdb333d9653e",
       "version_major": 2,
       "version_minor": 0
      },
      "text/plain": [
       "Text(value='342634', description='BB Column:', disabled=True, layout=Layout(width='max-content'))"
      ]
     },
     "metadata": {},
     "output_type": "display_data"
    },
    {
     "data": {
      "application/vnd.jupyter.widget-view+json": {
       "model_id": "d4a099d82bdd4887879ad3c29e50940f",
       "version_major": 2,
       "version_minor": 0
      },
      "text/plain": [
       "HBox(children=(Button(button_style='success', description='Create Blackboard File', icon='save', layout=Layout…"
      ]
     },
     "metadata": {},
     "output_type": "display_data"
    },
    {
     "data": {
      "application/vnd.jupyter.widget-view+json": {
       "model_id": "bcc9ff63b9564df6992af39cc8099119",
       "version_major": 2,
       "version_minor": 0
      },
      "text/plain": [
       "Output()"
      ]
     },
     "metadata": {},
     "output_type": "display_data"
    }
   ],
   "source": [
    "if __name__ == '__main__':\n",
    "    create_blackboard_file()"
   ]
  },
  {
   "cell_type": "code",
   "execution_count": null,
   "id": "6c486d48-e6d1-4689-8f02-eadb25e5aa5f",
   "metadata": {},
   "outputs": [],
   "source": []
  }
 ],
 "metadata": {
  "kernelspec": {
   "display_name": "Python 3 (ipykernel)",
   "language": "python",
   "name": "python3"
  },
  "language_info": {
   "codemirror_mode": {
    "name": "ipython",
    "version": 3
   },
   "file_extension": ".py",
   "mimetype": "text/x-python",
   "name": "python",
   "nbconvert_exporter": "python",
   "pygments_lexer": "ipython3",
   "version": "3.11.7"
  }
 },
 "nbformat": 4,
 "nbformat_minor": 5
}
