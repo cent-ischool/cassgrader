{
 "cells": [
  {
   "cell_type": "code",
   "execution_count": 1,
   "id": "2dab88c0-6ad8-4eb3-8109-ba7e1e5a863c",
   "metadata": {
    "tags": []
   },
   "outputs": [],
   "source": [
    "import os\n",
    "import json\n",
    "import pandas as pd\n",
    "from casstools.cass_client import CassClient"
   ]
  },
  {
   "cell_type": "code",
   "execution_count": 2,
   "id": "c10b1e1d-9d2d-42a5-8a0b-c1719bb28172",
   "metadata": {
    "tags": []
   },
   "outputs": [],
   "source": [
    "client = CassClient()"
   ]
  },
  {
   "cell_type": "code",
   "execution_count": 3,
   "id": "a1862c5f-0e49-4806-9067-f2664e269ae6",
   "metadata": {
    "tags": []
   },
   "outputs": [],
   "source": [
    "def initialize_directories(basepath=\".\"):\n",
    "    directories = ['blackboard', 'fetched', 'templates']\n",
    "    for d in directories:\n",
    "        pathspec = os.path.join(basepath,d)\n",
    "        if not os.path.exists(pathspec):\n",
    "            os.makedirs(pathspec)"
   ]
  },
  {
   "cell_type": "code",
   "execution_count": 4,
   "id": "86734234-f81e-4b93-bd98-0cfd28abe8de",
   "metadata": {
    "tags": []
   },
   "outputs": [],
   "source": [
    "def fetch_assignments(course_key, assignment_name) -> pd.DataFrame:\n",
    "    me = client.whoami()\n",
    "    assignments = client.get_course_assignments(course_key)\n",
    "    roster = client.get_course_roster(course_key)\n",
    "    assignment_dict = assignments[ assignments['assignment_name'] == assignment_name].to_dict(orient=\"records\")[0]\n",
    "    student_list = roster['student'].tolist()\n",
    "    folder = f\"./fetched/{course_key}/{me['name']}/{assignment_dict['unit_name']}/{assignment_dict['assignment_name']}\"\n",
    "    os.makedirs(folder, exist_ok=True)\n",
    "\n",
    "    for student_name in student_list:\n",
    "        info = client.submission_info(course_key, assignment_name, student_name, assignment_name)\n",
    "        infofile = f\"{folder}/{student_name}-info.json\"\n",
    "        with open(infofile,\"w\") as f:\n",
    "            f.write(json.dumps(info))\n",
    "        if info['exists']:\n",
    "            #fetch the file!\n",
    "            notebook = client.get_assignment_submission(course_key, assignment_name, student_name, assignment_name)\n",
    "            #TODO save the notebook file....\n",
    "            print(notebook)\n",
    "    return assignment_dict, student_list, me\n",
    "    "
   ]
  },
  {
   "cell_type": "code",
   "execution_count": 5,
   "id": "5a71cc32-161f-4231-aefc-e518f85ed8ec",
   "metadata": {
    "tags": []
   },
   "outputs": [
    {
     "name": "stdout",
     "output_type": "stream",
     "text": [
      "{'cells': [{'cell_type': 'code', 'execution_count': None, 'id': '710a0342-378d-4d8c-8b72-40173b6180aa', 'metadata': {}, 'outputs': [], 'source': []}, {'cell_type': 'code', 'execution_count': None, 'id': '5dd9adf3-3b30-407b-ab65-74ef06728d5f', 'metadata': {}, 'outputs': [], 'source': []}, {'cell_type': 'code', 'execution_count': 1, 'id': '8834732d-38a3-462c-9ee0-d27c4dafb46b', 'metadata': {'tags': []}, 'outputs': [], 'source': ['from casstools.assignment import Assignment\\n', 'a = Assignment()']}, {'cell_type': 'code', 'execution_count': 2, 'id': '929c7d4b-945c-4170-ab7c-0faf23f21b1d', 'metadata': {}, 'outputs': [{'data': {'text/plain': [\"'spring2024'\"]}, 'execution_count': 2, 'metadata': {}, 'output_type': 'execute_result'}], 'source': ['a.parsed_path.term_part']}, {'cell_type': 'code', 'execution_count': 3, 'id': '0dcbced3-1f79-4b3e-8e6c-7f6598aae93f', 'metadata': {'tags': []}, 'outputs': [{'data': {'text/plain': [\"['A1.ipynb', 'A2.ipynb']\"]}, 'execution_count': 3, 'metadata': {}, 'output_type': 'execute_result'}], 'source': ['a.client.get_course_assignment_names(a.parsed_path.course_key_part)']}, {'cell_type': 'code', 'execution_count': 4, 'id': '6844f976-1f15-4298-bc87-2f7f1a883d3b', 'metadata': {'tags': []}, 'outputs': [{'data': {'text/plain': [\"'A2.ipynb'\"]}, 'execution_count': 4, 'metadata': {}, 'output_type': 'execute_result'}], 'source': ['a.parsed_path.filename_part']}, {'cell_type': 'code', 'execution_count': None, 'id': 'ecc6b6a2-c452-4bb8-9678-1c952421aed0', 'metadata': {'tags': []}, 'outputs': [], 'source': ['a.submit()']}, {'cell_type': 'code', 'execution_count': None, 'id': 'fb15d4a4-b782-4cbe-9e18-82865e152adc', 'metadata': {}, 'outputs': [], 'source': []}], 'metadata': {'kernelspec': {'display_name': 'Python 3 (ipykernel)', 'language': 'python', 'name': 'python3'}, 'language_info': {'codemirror_mode': {'name': 'ipython', 'version': 3}, 'file_extension': '.py', 'mimetype': 'text/x-python', 'name': 'python', 'nbconvert_exporter': 'python', 'pygments_lexer': 'ipython3', 'version': '3.11.7'}}, 'nbformat': 4, 'nbformat_minor': 5}\n"
     ]
    },
    {
     "data": {
      "text/plain": [
       "({'unit_name': 'A',\n",
       "  'assignment_name': 'A2.ipynb',\n",
       "  'points': 5,\n",
       "  'due_date': '2024-01-06 23:59',\n",
       "  'lms_column_id': 342123},\n",
       " ['mafudge@syr.edu', 'dlnosky@syr.edu'],\n",
       " {'valid': True,\n",
       "  'last_activity': '2024-01-07T17:13:53.525136Z',\n",
       "  'name': 'mafudge@syr.edu',\n",
       "  'admin': True,\n",
       "  'kind': 'user',\n",
       "  'groups': [],\n",
       "  'fake_token': False})"
      ]
     },
     "execution_count": 5,
     "metadata": {},
     "output_type": "execute_result"
    }
   ],
   "source": [
    "fetch_assignments(\"tst101-spring2024\", \"A2.ipynb\")"
   ]
  },
  {
   "cell_type": "code",
   "execution_count": 24,
   "id": "450e07ea-9109-4244-8483-e55ba6fe9380",
   "metadata": {
    "tags": []
   },
   "outputs": [
    {
     "data": {
      "text/plain": [
       "<function posix.mkdir(path, mode=511, *, dir_fd=None)>"
      ]
     },
     "execution_count": 24,
     "metadata": {},
     "output_type": "execute_result"
    }
   ],
   "source": [
    "os.mkdir"
   ]
  },
  {
   "cell_type": "code",
   "execution_count": null,
   "id": "93df177f-c08b-47fe-8536-2dc73bc83dd0",
   "metadata": {},
   "outputs": [],
   "source": []
  }
 ],
 "metadata": {
  "kernelspec": {
   "display_name": "Python 3 (ipykernel)",
   "language": "python",
   "name": "python3"
  },
  "language_info": {
   "codemirror_mode": {
    "name": "ipython",
    "version": 3
   },
   "file_extension": ".py",
   "mimetype": "text/x-python",
   "name": "python",
   "nbconvert_exporter": "python",
   "pygments_lexer": "ipython3",
   "version": "3.11.7"
  }
 },
 "nbformat": 4,
 "nbformat_minor": 5
}
