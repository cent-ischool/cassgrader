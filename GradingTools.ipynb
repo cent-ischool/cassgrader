{
 "cells": [
  {
   "cell_type": "code",
   "execution_count": 1,
   "id": "2dab88c0-6ad8-4eb3-8109-ba7e1e5a863c",
   "metadata": {
    "tags": []
   },
   "outputs": [],
   "source": [
    "import os\n",
    "import json\n",
    "import csv\n",
    "import nbformat\n",
    "import pandas as pd\n",
    "import numpy as np\n",
    "from datetime import datetime\n",
    "from markdown import markdown\n",
    "from casstools.cass_client import CassClient\n",
    "from casstools.notebook_tools import NotebookFile\n",
    "import logging\n",
    "\n",
    "OK = \"\\U00002705\"\n",
    "QUESTION = \"\\U00002753\"\n",
    "CANCEL = \"\\U0000274C\"\n",
    "\n",
    "\n",
    "logging.basicConfig(level=logging.INFO)"
   ]
  },
  {
   "cell_type": "code",
   "execution_count": 2,
   "id": "c10b1e1d-9d2d-42a5-8a0b-c1719bb28172",
   "metadata": {
    "tags": []
   },
   "outputs": [],
   "source": [
    "client = CassClient()"
   ]
  },
  {
   "cell_type": "code",
   "execution_count": 3,
   "id": "0e1bbaff-cb52-499a-9a7f-45888a75ce24",
   "metadata": {
    "tags": []
   },
   "outputs": [],
   "source": [
    "def get_templates(filespec=\"./templates/*.ipynb\"):\n",
    "    from glob import glob\n",
    "    return sorted(glob(filespec))"
   ]
  },
  {
   "cell_type": "code",
   "execution_count": 4,
   "id": "7b25f716-64bd-4869-8049-5a7584a513db",
   "metadata": {
    "tags": []
   },
   "outputs": [],
   "source": [
    "def load_template_header_cell(filespec):\n",
    "    import uuid\n",
    "    with open(filespec) as f:\n",
    "        notebook = nbformat.read(f,  as_version=4)\n",
    "        markdown = [m for m in notebook.cells if m.cell_type == \"markdown\"]\n",
    "        template_cell = markdown[0]\n",
    "        template_cell.metadata['cass'] = {'cell_type': \"grading_header\"}\n",
    "        template_cell.id = f\"{uuid.uuid4()}\"\n",
    "    return template_cell\n",
    "\n",
    "\n",
    "#load_template_header_cell(\"./templates/Homework.ipynb\")"
   ]
  },
  {
   "cell_type": "code",
   "execution_count": 5,
   "id": "a1862c5f-0e49-4806-9067-f2664e269ae6",
   "metadata": {
    "tags": []
   },
   "outputs": [],
   "source": [
    "def initialize_directories(basepath=\".\"):\n",
    "    directories = ['blackboard', 'fetched', 'templates']\n",
    "    for d in directories:\n",
    "        pathspec = os.path.join(basepath, d)\n",
    "        if not os.path.exists(pathspec):\n",
    "            os.makedirs(pathspec)"
   ]
  },
  {
   "cell_type": "code",
   "execution_count": 6,
   "id": "a668cc4d-b641-4dae-a00a-6756fadb5572",
   "metadata": {
    "tags": []
   },
   "outputs": [],
   "source": [
    "def remove_time_offset(time_string_iso_with_offset: str, timezone: str) -> str:\n",
    "    from zoneinfo import ZoneInfo\n",
    "    dt = datetime.fromisoformat(time_string_iso_with_offset).astimezone(ZoneInfo(\"America/New_York\"))\n",
    "    dts = dt.strftime(\"%Y-%m-%d %H:%M\")\n",
    "    return dts"
   ]
  },
  {
   "cell_type": "code",
   "execution_count": 7,
   "id": "63e5c6b3-18f9-4be5-8005-0f47c8c490be",
   "metadata": {
    "tags": []
   },
   "outputs": [],
   "source": [
    "def make_clickable(url, name, section=\"\"):\n",
    "    if url == \"\":\n",
    "        return name\n",
    "    else:\n",
    "        if section == \"\":\n",
    "            return '<a href=\"{}\" rel=\"noopener noreferrer\">{}</a>'.format(url, name)\n",
    "        else:\n",
    "            return '<a href=\"{}#{}\" rel=\"noopener noreferrer\">{}</a>'.format(url, section, name)\n"
   ]
  },
  {
   "cell_type": "code",
   "execution_count": 8,
   "id": "d8b1dd88-c1b5-4bdd-9a8a-27952779190c",
   "metadata": {
    "tags": []
   },
   "outputs": [],
   "source": [
    "def clear_assignments_folder(course_key, assignment_name):\n",
    "    import shutil\n",
    "    folder = get_assignments_folder(course_key, assignment_name)\n",
    "    shutil.rmtree(folder)\n",
    "    return folder"
   ]
  },
  {
   "cell_type": "code",
   "execution_count": 9,
   "id": "83708d48-348c-4de5-a6d6-79d31734726f",
   "metadata": {
    "tags": []
   },
   "outputs": [],
   "source": [
    "def get_assignments_folder(course_key, assignment_name):\n",
    "    me = client.whoami()\n",
    "    assignments = client.get_course_assignments(course_key)\n",
    "    assignment_dict = assignments[ assignments['assignment_name'] == assignment_name].to_dict(orient=\"records\")[0]\n",
    "    folder = f\"./fetched/{course_key}/{me['name']}/{assignment_dict['unit_name']}/{assignment_dict['assignment_name']}\"\n",
    "    return folder\n"
   ]
  },
  {
   "cell_type": "code",
   "execution_count": 10,
   "id": "4bde2c3a-32d1-4602-b60c-4d298bee8ef6",
   "metadata": {
    "tags": []
   },
   "outputs": [],
   "source": [
    "def load_submissions_file(filespec):\n",
    "    if os.path.exists(filespec):\n",
    "        with open(filespec, \"r\") as f:\n",
    "            submissions = json.load(f)\n",
    "    else:\n",
    "        submissions = []\n",
    "        \n",
    "    return submissions\n",
    "        \n",
    "def save_submissions_file(filespec, submissions):\n",
    "    with open(filespec, \"w\") as f:\n",
    "        buff = json.dumps(submissions)\n",
    "        f.write(buff)\n"
   ]
  },
  {
   "cell_type": "code",
   "execution_count": 11,
   "id": "c47ba0af-b227-4941-8cd5-085e5f4abdab",
   "metadata": {
    "tags": []
   },
   "outputs": [],
   "source": [
    "def get_assignments_folder_url(course_key, assignment_name):\n",
    "    ''' \n",
    "    makes assumption cassgrader is in library folder\n",
    "    '''\n",
    "    me = client.whoami()\n",
    "    base = f\"https://v2hub.ischool.syr.edu/user/{me['name']}/lab/workspaces/auto-T/tree/library/cassgrader\"\n",
    "    assignments = client.get_course_assignments(course_key)\n",
    "    assignment_dict = assignments[ assignments['assignment_name'] == assignment_name].to_dict(orient=\"records\")[0]\n",
    "    folder = f\"/fetched/{course_key}/{me['name']}/{assignment_dict['unit_name']}/{assignment_dict['assignment_name']}\"\n",
    "    url = base + folder\n",
    "    return url"
   ]
  },
  {
   "cell_type": "code",
   "execution_count": 12,
   "id": "f4a01596-d6e9-4fa4-88a4-5a769987654a",
   "metadata": {
    "tags": []
   },
   "outputs": [],
   "source": [
    "def display_submissions(course_key, assignment_name) -> pd.DataFrame:\n",
    "    me = client.whoami()\n",
    "    assignments = client.get_course_assignments(course_key)\n",
    "    roster = client.get_course_roster(course_key)\n",
    "    assignment_dict = assignments[ assignments['assignment_name'] == assignment_name].to_dict(orient=\"records\")[0]\n",
    "    student_list = roster['student'].tolist()\n",
    "    folder = f\"./fetched/{course_key}/{me['name']}/{assignment_dict['unit_name']}/{assignment_dict['assignment_name']}\"\n",
    "    submissions_file = f\"{folder}/submissions.json\"\n",
    "    submissions = load_submissions_file(submissions_file)\n",
    "    if submissions != []:\n",
    "        df = pd.DataFrame(submissions)\n",
    "        df['view_submission'] = df.apply(lambda row: make_clickable(row['notebookfile'], row['student'] ), axis=1)\n",
    "        return df.sort_values(\"view_submission\")\n",
    "    else:\n",
    "        df = pd.DataFrame()\n",
    "        return df \n",
    "    \n"
   ]
  },
  {
   "cell_type": "code",
   "execution_count": 13,
   "id": "ebefa84a-fb64-498b-b9bd-20da8b6c2926",
   "metadata": {
    "tags": []
   },
   "outputs": [],
   "source": [
    "def build_row(student_name,info, assignment_duedate):\n",
    "    row = { 'student' : student_name, 'status' : \"NONE\", 'template_file': \"\" }\n",
    "    if info['exists']:\n",
    "        row['submitted'] = True\n",
    "        row['etag'] = info['etag']\n",
    "        row['last_modified'] = info['last_modified']\n",
    "        row['submitted_on'] = remove_time_offset(info['last_modified'], \"America/New_York\")\n",
    "        row['object_on_s3'] = info['object']\n",
    "        row['late'] = datetime.fromisoformat(row['submitted_on']) > datetime.fromisoformat(assignment_duedate)\n",
    "    else:\n",
    "        row['submitted'] = False\n",
    "        row['etag'] = \"\"\n",
    "        row['last_modified'] = \"\"\n",
    "        row['submitted_on'] = \"\"\n",
    "        row['object_on_s3'] = \"\"\n",
    "        row['late'] = False\n",
    "    return row"
   ]
  },
  {
   "cell_type": "code",
   "execution_count": 14,
   "id": "7f98b9f9-862f-491e-b7ed-4f793afb7167",
   "metadata": {
    "tags": []
   },
   "outputs": [],
   "source": [
    "def inject_template(notebook, template_cell):\n",
    "    first_cell = notebook['cells'][0]\n",
    "    cass = first_cell['metadata'].get('cass',None)\n",
    "    if cass is None or cass != {'cell_type': \"grading_header\"}:\n",
    "        notebook['cells'].insert(0,template_cell)\n",
    "\n",
    "    return notebook\n",
    "    "
   ]
  },
  {
   "cell_type": "code",
   "execution_count": 15,
   "id": "ad4ff195-5990-4335-be9e-3cac854f9c81",
   "metadata": {
    "tags": []
   },
   "outputs": [],
   "source": [
    "def download_submission_file(course_key, assignment_name, student_name, file_name, folder, template_file):\n",
    "    template_cell = load_template_header_cell(template_file)\n",
    "    notebook = client.get_assignment_submission(course_key, assignment_name, student_name, file_name)  \n",
    "    notebook = inject_template(notebook, template_cell)\n",
    "    #nbformat.validate(notebook)   \n",
    "    notebookfile = f\"{folder}/{student_name}.ipynb\"\n",
    "    with open(notebookfile, \"w\") as f:\n",
    "        f.write(json.dumps(notebook))\n",
    "        \n",
    "    return notebookfile\n",
    "\n",
    "# folder = f\"./fetched/tst101-spring2024/mafudge@syr.edu/A/A2.ipynb\"\n",
    "# download_submission_file(\"tst101-spring2024\", \"A2.ipynb\" , \"mafudge@syr.edu\", \"A2.ipynb\", folder, \"./templates/Homework.ipynb\")\n"
   ]
  },
  {
   "cell_type": "code",
   "execution_count": 16,
   "id": "86734234-f81e-4b93-bd98-0cfd28abe8de",
   "metadata": {
    "tags": []
   },
   "outputs": [],
   "source": [
    "def fetch_assignments(course_key, assignment_name, template_file) -> pd.DataFrame:\n",
    "    me = client.whoami()\n",
    "    assignments = client.get_course_assignments(course_key)\n",
    "    roster = client.get_course_roster(course_key)\n",
    "    assignment_dict = assignments[ assignments['assignment_name'] == assignment_name].to_dict(orient=\"records\")[0]\n",
    "    student_list = roster[ (roster['instructor']==me['name']) | (roster['grader']==me['name']) ]['student'].tolist()\n",
    "    folder = f\"./fetched/{course_key}/{me['name']}/{assignment_dict['unit_name']}/{assignment_dict['assignment_name']}\"\n",
    "    os.makedirs(folder, exist_ok=True)\n",
    "    \n",
    "    #Load Submissions database\n",
    "    submissions_file = f\"{folder}/submissions.json\"    \n",
    "    submissions = load_submissions_file(submissions_file)\n",
    "    \n",
    "    # PROCESS FOR EACH STUDENT \n",
    "    for student_name in student_list:\n",
    "        \n",
    "        # FETCH CLOUD INFO\n",
    "        info = client.submission_info(course_key, assignment_name, student_name, assignment_name)\n",
    "        row = build_row(student_name, info, assignment_dict['due_date'])\n",
    "        \n",
    "        # WHEN STUDENT EXISTS...\n",
    "        submission_rows = [ s for s in submissions if s['student'] == row['student']]\n",
    "        if len(submission_rows) >0:\n",
    "            submission_row = submission_rows[0]\n",
    "            submission_row_index = submissions.index(submission_row)\n",
    "            \n",
    "            # DOES THE EXISTING STUDENT HAVE A SUBMISSION?\n",
    "            if submission_row['submitted']:\n",
    "                \n",
    "                # DO THE ETAGS MATCH? THEN ONLY DOWNLOAD WHEN FILES DOESNT EXIST\n",
    "                if submission_row['etag'] == row['etag']:\n",
    "\n",
    "                    submission_row['last_fetch'] = \"Same:Skipping\"\n",
    "                    if not os.path.exists(submission_row['notebookfile']):\n",
    "                        submission_row['notebookfile'] = download_submission_file(course_key, assignment_name, student_name, assignment_name, folder, template_file)\n",
    "                        submission_row['template_file'] = template_file\n",
    "                        submissions[submission_row_index] = submission_row\n",
    "                        logging.debug(f\"{submission_row['last_fetch']} => {student_name} has submission and etags match, but file didn't exist, downloading.\")\n",
    "                    else:\n",
    "                        logging.debug(f\"{submission_row['last_fetch']} => {student_name} has submission and etags match, skipping.\")\n",
    "                    submissions[submission_row_index] = submission_row\n",
    "                \n",
    "                # ETAGS DO NOT MATCH... RESUBMISSION\n",
    "                else: \n",
    "                    #TODO: updated file... what to do where\n",
    "                    existingfile = f\"{folder}/{student_name}.ipynb\"\n",
    "                    backupfile = f\"{folder}/{student_name}-{submission_row['etag']}.ipynb\"\n",
    "                    os.rename(existingfile,backupfile)\n",
    "                    row['notebookfile'] = download_submission_file(course_key, assignment_name, student_name, assignment_name, folder, template_file)\n",
    "                    row['template_file'] = template_file\n",
    "                    row['last_fetch'] = \"Newer:Updating\"\n",
    "                    submissions[submission_row_index] = row\n",
    "                    logging.debug(f\"{submission_row['last_fetch']} => {student_name} has a re-submission that is newer.\")\n",
    "\n",
    "            # EXISTING STUDENT DOES NOT HAVE An EXISTING SUBMISSION\n",
    "            else:\n",
    "                \n",
    "                # IS THERE A CLOUD SUBMSSION?\n",
    "                if row['submitted']:\n",
    "                    row['notebookfile'] = download_submission_file(course_key, assignment_name, student_name, assignment_name, folder, template_file)\n",
    "                    row['template_file'] = template_file\n",
    "                    row['last_fetch'] = \"New:Updating\"\n",
    "                    submissions[submission_row_index] = row\n",
    "                    logging.debug(f\"{row['last_fetch']} => {student_name} was updated with cloud submission.\")\n",
    "                                    \n",
    "                \n",
    "        # STUDENT DOES NOT EXIST ADD ROW, AND DOWNLOAD FILE (IF EXISTS)\n",
    "        else:\n",
    "            row['last_fetch'] = \"New:Added\"\n",
    "            if row['submitted']:\n",
    "                row['notebookfile'] = download_submission_file(course_key, assignment_name, student_name, assignment_name, folder, template_file)\n",
    "                row['template_file'] = template_file                \n",
    "            else:\n",
    "                row['notebookfile'] = \"\"\n",
    "            \n",
    "            logging.debug(f\"{row['last_fetch']} => {student_name} not in submission database, adding\")\n",
    "            submissions.append(row)\n",
    "\n",
    "    save_submissions_file(submissions_file, submissions)"
   ]
  },
  {
   "cell_type": "code",
   "execution_count": null,
   "id": "5a71cc32-161f-4231-aefc-e518f85ed8ec",
   "metadata": {
    "tags": []
   },
   "outputs": [],
   "source": []
  },
  {
   "cell_type": "code",
   "execution_count": 17,
   "id": "5bee2cbc-efb7-4792-a0c5-d3f4cb05014e",
   "metadata": {
    "tags": []
   },
   "outputs": [],
   "source": [
    "def extract_grade(header_cell_text):\n",
    "    for line in header_cell_text.split(\"\\n\"):\n",
    "        if line.strip().find(\"- Your Grade\") >=0:\n",
    "            grade = line.split(\":\")[-1].strip()\n",
    "            if grade.isdigit():\n",
    "                return int(grade)\n",
    "            else:\n",
    "                return None"
   ]
  },
  {
   "cell_type": "code",
   "execution_count": 18,
   "id": "450e07ea-9109-4244-8483-e55ba6fe9380",
   "metadata": {
    "tags": []
   },
   "outputs": [],
   "source": [
    "def bb_filename(assignment_name, bbcolumn):\n",
    "    pos = bbcolumn.find(\"|\")\n",
    "    if pos>=0:\n",
    "        bbfile = assignment_name.split(\".\")[0] + \"-\" + bbcolumn[pos+1:] + \".csv\"\n",
    "    else:\n",
    "        bbfile = assignment_name.split(\".\")[0] + \"-\" + bbcolumn + \".csv\"\n",
    "    \n",
    "    return bbfile\n",
    "\n",
    "#bb_filename(\"A1.ipynb\", \"|351235\")"
   ]
  },
  {
   "cell_type": "code",
   "execution_count": 19,
   "id": "93df177f-c08b-47fe-8536-2dc73bc83dd0",
   "metadata": {},
   "outputs": [],
   "source": [
    "def create_bb_file(course_key, assignment_name):\n",
    "    me = client.whoami()\n",
    "    assignments = client.get_course_assignments(course_key)\n",
    "    roster = client.get_course_roster(course_key)\n",
    "    assignment_dict = assignments[ assignments['assignment_name'] == assignment_name].to_dict(orient=\"records\")[0]\n",
    "    student_list = roster['student'].tolist()\n",
    "    folder = f\"./fetched/{course_key}/{me['name']}/{assignment_dict['unit_name']}/{assignment_dict['assignment_name']}\"\n",
    "    bbfilename = bb_filename(assignment_name, str(assignment_dict['lms_column_id']))\n",
    "    bbfilespec = os.path.join(\"./blackboard\", bbfilename)\n",
    "\n",
    "    #Load Submissions database\n",
    "    submissions_file = f\"{folder}/submissions.json\"                               \n",
    "    submissions = load_submissions_file(submissions_file)\n",
    "\n",
    "    grades = []\n",
    "    for student in submissions:\n",
    "        if student['submitted']:\n",
    "            header_cell = load_template_header_cell(student['notebookfile'])\n",
    "            grade = extract_grade(header_cell['source'])\n",
    "            if grade is None:\n",
    "                print(f\"{student['student']} cannot parse grade. Not included in grade file.\")\n",
    "            elif grade > int(assignment_dict['points']):\n",
    "                print(f\"{student['student']} grade of {grade} is higher than assignment points {assignment_dict['points']}. Not included in grade file.\")\n",
    "            else:\n",
    "                grades.append({\n",
    "                    \"Username\": student['student'].split(\"@\")[0].strip() , \n",
    "                    assignment_dict['lms_column_id'] : grade , \n",
    "                    \"Grading Notes\" : \"\", \n",
    "                    \"Notes Format\" : \"HTML\", \n",
    "                    \"Feedback to Learner\" : markdown(header_cell['source']),  \n",
    "                    \"Feedback Format\" : \"HTML\"\n",
    "                })\n",
    "\n",
    "    if len(grades) >0:\n",
    "        grades_df =  pd.DataFrame(grades) \n",
    "        grades_df.to_csv(bbfilespec,sep=\",\",header=True,index=False, quoting=csv.QUOTE_NONNUMERIC)\n",
    "\n",
    "        return len(grades), bbfilespec, grades_df\n",
    "\n",
    "    else:\n",
    "        return 0, \"None\", None\n",
    "\n",
    "\n",
    "# create_bb_file(\"tst101-spring2024\",\"A2.ipynb\")\n",
    "    "
   ]
  },
  {
   "cell_type": "code",
   "execution_count": null,
   "id": "96c108de-a693-4050-9eeb-fcaf2d54f062",
   "metadata": {},
   "outputs": [],
   "source": []
  },
  {
   "cell_type": "code",
   "execution_count": null,
   "id": "9f4eb3dd-26ee-403f-8bf1-7f032d4f3edc",
   "metadata": {},
   "outputs": [],
   "source": []
  },
  {
   "cell_type": "code",
   "execution_count": 24,
   "id": "eabc3aa5-b985-47e6-bf66-5f99fdf13190",
   "metadata": {
    "tags": []
   },
   "outputs": [],
   "source": [
    "def assignment_check(file, RUN_CHECK_CODE):\n",
    "    if file == \"\":\n",
    "        return \"\"\n",
    "    nb = NotebookFile(file)\n",
    "    lab_check_cell = [cell for cell in nb.code_cells if cell.source.find(\"NotebookFile().check_lab()\") >= 0]\n",
    "    if len(lab_check_cell) != 0 and lab_check_cell[0].get('execution_count', None) is not None:\n",
    "        lab_check_cell_output = lab_check_cell[0]['outputs'][0]['text']\n",
    "    else:\n",
    "        return f\"Check code was not found in the submission, or not executed by the student.\"\n",
    "\n",
    "    new_output = \"\"\n",
    "    for row in lab_check_cell_output.split(\"\\n\"):\n",
    "        items = row.split()\n",
    "        if len(items) > 0:\n",
    "            you_code = items[1] if items[0] == CANCEL else items[0]\n",
    "            if you_code in [\"1.1\", \"1.2\", \"1.3\", \"1.4\", \"1.5\", \"1.6\", \"1.7\", '2.1', '2.2', '2.3', '2.4', '2.5', '2.6', '2.7']:\n",
    "                row = row.replace(you_code, make_clickable(file, you_code, f\"{you_code}-You-Code\"))\n",
    "        new_output += row + \"\\n\"\n",
    "    return \"<code>\" + new_output.strip() + \"</code>\""
   ]
  },
  {
   "cell_type": "code",
   "execution_count": null,
   "id": "d8ce2f62-1ca8-438c-931b-22b6c1dbe407",
   "metadata": {},
   "outputs": [],
   "source": [
    "def extract_cell_contents_if_exists(notebookfile, cell_label_type):\n",
    "    if notebookfile == \"\":\n",
    "        return \"\"\n",
    "    nb = NotebookFile(notebookfile)\n",
    "    cells = nb.markdown_cells_of_type(cell_label_type)\n",
    "    if len(cells) == 0:\n",
    "        return \"\"\n",
    "    return cells[0].get(\"source\", \"\")\n"
   ]
  },
  {
   "cell_type": "code",
   "execution_count": 21,
   "id": "dcb75865-f62f-4011-b5c7-44866ce90e55",
   "metadata": {
    "tags": []
   },
   "outputs": [],
   "source": [
    "def display_lab_submissions(course_key, assignment_name) -> pd.DataFrame:\n",
    "    RUN_CHECK_CODE = \"from casstools.notebook_tools import NotebookFile\\nNotebookFile().check_lab()\"\n",
    "    me = client.whoami()\n",
    "    assignments = client.get_course_assignments(course_key)\n",
    "    roster = client.get_course_roster(course_key)\n",
    "    assignment_dict = assignments[ assignments['assignment_name'] == assignment_name].to_dict(orient=\"records\")[0]\n",
    "    student_list = roster['student'].tolist()\n",
    "    folder = f\"./fetched/{course_key}/{me['name']}/{assignment_dict['unit_name']}/{assignment_dict['assignment_name']}\"\n",
    "    submissions_file = f\"{folder}/submissions.json\"\n",
    "    submissions = load_submissions_file(submissions_file)\n",
    "    if submissions != []:\n",
    "        df = pd.DataFrame(submissions)\n",
    "        df['view_submission'] = df.apply(lambda row: make_clickable(row['notebookfile'], row['student']), axis=1)\n",
    "        df['lab_check'] = df.apply(lambda row: assignment_check(row['notebookfile'], RUN_CHECK_CODE), axis=1)\n",
    "        df['comfort'] = df.apply(lambda row: extract_cell_contents_if_exists(row['notebookfile'], \"comfort_cell\"), axis=1)\n",
    "        df['questions'] = df.apply(lambda row: extract_cell_contents_if_exists(row['notebookfile'], \"question_cell\"), axis=1)\n",
    "        return df.sort_values(\"view_submission\")\n",
    "    else:\n",
    "        df = pd.DataFrame()\n",
    "        return df "
   ]
  },
  {
   "cell_type": "code",
   "execution_count": 22,
   "id": "1865de0c-6906-48bc-9aef-faeaab8e0ac4",
   "metadata": {
    "tags": []
   },
   "outputs": [],
   "source": [
    "if __name__ == '__main__':\n",
    "    file = \"./fetched/ist256-spring2024/mafudge@syr.edu/01-Intro/LAB-Intro.ipynb/bsaltman@syr.edu.ipynb\"\n",
    "    nb = NotebookFile(file)\n",
    "    RUN_CHECK_CODE = \"from casstools.notebook_tools import NotebookFile\\nNotebookFile().check_lab()\"\n",
    "    output = assignment_check(file, RUN_CHECK_CODE)\n",
    "    comfort = nb.markdown_cells_of_type(\"comfort_cell\")[0]['source']\n",
    "    comments = nb.markdown_cells_of_type(\"question_cell\")[0]['source']\n",
    "    pd.DataFrame([ {\n",
    "        'user': 'testing',\n",
    "        'assignment check': output,\n",
    "        'comfort': comfort,\n",
    "        'comments': comments\n",
    "    }]).style.set_properties(**{'text-align': 'left'})"
   ]
  },
  {
   "cell_type": "code",
   "execution_count": null,
   "id": "f7907ef4-2389-4baf-ac7b-1e9c4ec820e3",
   "metadata": {
    "tags": []
   },
   "outputs": [],
   "source": []
  },
  {
   "cell_type": "code",
   "execution_count": null,
   "id": "828b7de7-ff80-4bf9-9cce-b3969b9f6ed3",
   "metadata": {
    "tags": []
   },
   "outputs": [],
   "source": [
    "\n"
   ]
  },
  {
   "cell_type": "code",
   "execution_count": null,
   "id": "73aa82bb-f942-43a6-842d-10f1a776db38",
   "metadata": {
    "tags": []
   },
   "outputs": [],
   "source": []
  },
  {
   "cell_type": "code",
   "execution_count": null,
   "id": "f0b3c7a1-2c5c-4488-b693-bfa1e2fd0dcb",
   "metadata": {},
   "outputs": [],
   "source": []
  },
  {
   "cell_type": "code",
   "execution_count": null,
   "id": "9d47ee63-6028-453d-b092-c19ec1b95477",
   "metadata": {},
   "outputs": [],
   "source": []
  },
  {
   "cell_type": "code",
   "execution_count": null,
   "id": "1ac9bcfb-4143-4173-990d-032c84e5a361",
   "metadata": {},
   "outputs": [],
   "source": []
  },
  {
   "cell_type": "code",
   "execution_count": 23,
   "id": "89f72056-c529-434a-a6d9-409b6494ebf5",
   "metadata": {
    "tags": []
   },
   "outputs": [],
   "source": [
    "# submission_files = f\"{self.__fetch_folder}/{self.env.instructor_netid}/{lesson}/{assignment_file}/*.ipynb\"\n",
    "#     grades = []\n",
    "#     for filespec in glob.glob(submission_files):\n",
    "#         logging.debug(f\"create_bb_file() => Reading:{filespec}\")\n",
    "#         grade_cell = self.get_grading_cell(filespec)\n",
    "#         grade = self.get_grade(grade_cell)\n",
    "#         if grade != None:\n",
    "#             basename = filespec.split(\"/\")[-1]\n",
    "#             student_netid = basename.replace(\".ipynb\",\"\")\n",
    "#             grades.append({\n",
    "#                 \"Username\": student_netid.replace(\"@syr.edu\",\"\") , \n",
    "#                 bbcolumn : grade , \n",
    "#                 \"Grading Notes\" : \"\", \n",
    "#                 \"Notes Format\" : \"HTML\", \n",
    "#                 \"Feedback to Learner\" : self.grading_cell_to_html(grade_cell),  \n",
    "#                 \"Feedback Format\" : \"HTML\"\n",
    "#             })\n",
    "\n",
    "#     if len(grades) >0:\n",
    "#         grades_df =  pd.DataFrame(grades) \n",
    "#         display(grades_df)\n",
    "#         grades_df.to_csv(bbfilespec,sep=\",\",header=True,index=False, quoting=csv.QUOTE_NONNUMERIC)\n",
    "#         logging.debug(f\"Created Blackboard Grades File: {bbfilespec}\")\n",
    "#     else:\n",
    "#         logging.debug(\"No Grades to Process\")\n",
    "\n",
    "#     return len(grades), bbfile\n"
   ]
  },
  {
   "cell_type": "code",
   "execution_count": null,
   "id": "265d4c5c-32a6-4aac-888d-22f90939bb41",
   "metadata": {},
   "outputs": [],
   "source": []
  },
  {
   "cell_type": "code",
   "execution_count": null,
   "id": "51bb7982-dff3-41bb-baba-c0dfa769162e",
   "metadata": {},
   "outputs": [],
   "source": []
  },
  {
   "cell_type": "code",
   "execution_count": null,
   "id": "d8b1f5a1-5fe9-4c46-b468-b5568112ad59",
   "metadata": {},
   "outputs": [],
   "source": []
  },
  {
   "cell_type": "code",
   "execution_count": null,
   "id": "b3164396-5bc8-4cdd-9f2e-c8588a0db0d3",
   "metadata": {},
   "outputs": [],
   "source": []
  },
  {
   "cell_type": "code",
   "execution_count": null,
   "id": "5c216edf-d1f7-482b-aca3-529bb34bed65",
   "metadata": {},
   "outputs": [],
   "source": []
  },
  {
   "cell_type": "code",
   "execution_count": null,
   "id": "5018bb26-089b-411b-bf8b-a2bf96d54d12",
   "metadata": {},
   "outputs": [],
   "source": []
  },
  {
   "cell_type": "code",
   "execution_count": null,
   "id": "18d2f102-d23c-402d-a957-188ffcc7789a",
   "metadata": {},
   "outputs": [],
   "source": []
  },
  {
   "cell_type": "code",
   "execution_count": null,
   "id": "690481cd-e360-4048-9a74-458511c01a92",
   "metadata": {},
   "outputs": [],
   "source": []
  },
  {
   "cell_type": "code",
   "execution_count": null,
   "id": "20a00a00-0228-44e0-9223-f6add63ea490",
   "metadata": {},
   "outputs": [],
   "source": []
  },
  {
   "cell_type": "code",
   "execution_count": null,
   "id": "424bae44-0dd9-47e2-b7d1-23f20fba6781",
   "metadata": {},
   "outputs": [],
   "source": []
  },
  {
   "cell_type": "code",
   "execution_count": null,
   "id": "d39cb7bc-9e71-4c4b-be29-21c0a68680a7",
   "metadata": {},
   "outputs": [],
   "source": []
  }
 ],
 "metadata": {
  "kernelspec": {
   "display_name": "Python 3 (ipykernel)",
   "language": "python",
   "name": "python3"
  },
  "language_info": {
   "codemirror_mode": {
    "name": "ipython",
    "version": 3
   },
   "file_extension": ".py",
   "mimetype": "text/x-python",
   "name": "python",
   "nbconvert_exporter": "python",
   "pygments_lexer": "ipython3",
   "version": "3.11.7"
  }
 },
 "nbformat": 4,
 "nbformat_minor": 5
}
