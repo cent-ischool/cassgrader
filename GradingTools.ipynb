{
 "cells": [
  {
   "cell_type": "code",
   "execution_count": 32,
   "id": "2dab88c0-6ad8-4eb3-8109-ba7e1e5a863c",
   "metadata": {
    "tags": []
   },
   "outputs": [],
   "source": [
    "import os\n",
    "import json\n",
    "import pandas as pd\n",
    "import numpy as np\n",
    "from datetime import datetime\n",
    "from casstools.cass_client import CassClient"
   ]
  },
  {
   "cell_type": "code",
   "execution_count": 2,
   "id": "c10b1e1d-9d2d-42a5-8a0b-c1719bb28172",
   "metadata": {
    "tags": []
   },
   "outputs": [],
   "source": [
    "client = CassClient()"
   ]
  },
  {
   "cell_type": "code",
   "execution_count": 3,
   "id": "a1862c5f-0e49-4806-9067-f2664e269ae6",
   "metadata": {
    "tags": []
   },
   "outputs": [],
   "source": [
    "def initialize_directories(basepath=\".\"):\n",
    "    directories = ['blackboard', 'fetched', 'templates']\n",
    "    for d in directories:\n",
    "        pathspec = os.path.join(basepath,d)\n",
    "        if not os.path.exists(pathspec):\n",
    "            os.makedirs(pathspec)"
   ]
  },
  {
   "cell_type": "code",
   "execution_count": 68,
   "id": "a668cc4d-b641-4dae-a00a-6756fadb5572",
   "metadata": {
    "tags": []
   },
   "outputs": [],
   "source": [
    "def remove_time_offset(time_string_iso_with_offset: str, timezone: str) -> str:\n",
    "    from zoneinfo import ZoneInfo\n",
    "    dt = datetime.fromisoformat(time_string_iso_with_offset).astimezone(ZoneInfo(\"America/New_York\"))\n",
    "    dts = dt.strftime(\"%Y-%m-%d %H:%M\")\n",
    "    return dts"
   ]
  },
  {
   "cell_type": "code",
   "execution_count": 78,
   "id": "86734234-f81e-4b93-bd98-0cfd28abe8de",
   "metadata": {
    "tags": []
   },
   "outputs": [],
   "source": [
    "def fetch_assignments(course_key, assignment_name) -> pd.DataFrame:\n",
    "    submissions = []\n",
    "    me = client.whoami()\n",
    "    assignments = client.get_course_assignments(course_key)\n",
    "    roster = client.get_course_roster(course_key)\n",
    "    assignment_dict = assignments[ assignments['assignment_name'] == assignment_name].to_dict(orient=\"records\")[0]\n",
    "    student_list = roster['student'].tolist()\n",
    "    folder = f\"./fetched/{course_key}/{me['name']}/{assignment_dict['unit_name']}/{assignment_dict['assignment_name']}\"\n",
    "    os.makedirs(folder, exist_ok=True)\n",
    "\n",
    "    for student_name in student_list:\n",
    "        row = { 'student' : student_name }\n",
    "        info = client.submission_info(course_key, assignment_name, student_name, assignment_name)\n",
    "        infofile = f\"{folder}/{student_name}-info.json\"\n",
    "        with open(infofile,\"w\") as f:\n",
    "            f.write(json.dumps(info))\n",
    "        if info['exists']:\n",
    "            row['submitted_on'] = remove_time_offset(info['last_modified'], \"America/New_York\")\n",
    "            row['etag'] = info['etag']\n",
    "            #fetch the file!\n",
    "            notebook = client.get_assignment_submission(course_key, assignment_name, student_name, assignment_name)\n",
    "            notebookfile = f\"{folder}/{student_name}.ipynb\"\n",
    "            row['notebookfile'] = notebookfile\n",
    "            with open(notebookfile, \"w\") as f:\n",
    "                f.write(json.dumps(notebook))\n",
    "        else:\n",
    "            row['submitted_on'] = None\n",
    "            row['etag'] = None\n",
    "            \n",
    "        row['late'] = None if row['submitted_on'] is None else datetime.fromisoformat(row['submitted_on']) > datetime.fromisoformat(assignment_dict['due_date'])\n",
    "        row['due_date'] = assignment_dict['due_date']\n",
    "        row['total_points'] = assignment_dict['points']\n",
    "        row['infofile'] = infofile\n",
    "        submissions.append(row)\n",
    "    \n",
    "    print(assignment_dict)\n",
    "    return submissions\n"
   ]
  },
  {
   "cell_type": "code",
   "execution_count": 79,
   "id": "5a71cc32-161f-4231-aefc-e518f85ed8ec",
   "metadata": {
    "tags": []
   },
   "outputs": [
    {
     "name": "stdout",
     "output_type": "stream",
     "text": [
      "{'unit_name': 'A', 'assignment_name': 'A2.ipynb', 'points': 5, 'due_date': '2024-01-06 23:59', 'lms_column_id': 342123}\n"
     ]
    }
   ],
   "source": [
    "submissions = fetch_assignments(\"tst101-spring2024\", \"A2.ipynb\")\n",
    "df = pd.DataFrame(submissions)"
   ]
  },
  {
   "cell_type": "code",
   "execution_count": 80,
   "id": "450e07ea-9109-4244-8483-e55ba6fe9380",
   "metadata": {
    "tags": []
   },
   "outputs": [
    {
     "data": {
      "text/html": [
       "<style type=\"text/css\">\n",
       "</style>\n",
       "<table id=\"T_7c170\">\n",
       "  <thead>\n",
       "    <tr>\n",
       "      <th class=\"blank level0\" >&nbsp;</th>\n",
       "      <th id=\"T_7c170_level0_col0\" class=\"col_heading level0 col0\" >link</th>\n",
       "      <th id=\"T_7c170_level0_col1\" class=\"col_heading level0 col1\" >student</th>\n",
       "      <th id=\"T_7c170_level0_col2\" class=\"col_heading level0 col2\" >submitted_on</th>\n",
       "      <th id=\"T_7c170_level0_col3\" class=\"col_heading level0 col3\" >late</th>\n",
       "      <th id=\"T_7c170_level0_col4\" class=\"col_heading level0 col4\" >due_date</th>\n",
       "    </tr>\n",
       "  </thead>\n",
       "  <tbody>\n",
       "    <tr>\n",
       "      <th id=\"T_7c170_level0_row0\" class=\"row_heading level0 row0\" >0</th>\n",
       "      <td id=\"T_7c170_row0_col0\" class=\"data row0 col0\" ><a href=\"./fetched/tst101-spring2024/mafudge@syr.edu/A/A2.ipynb/mafudge@syr.edu.ipynb\" rel=\"noopener noreferrer\">mafudge@syr.edu</a></td>\n",
       "      <td id=\"T_7c170_row0_col1\" class=\"data row0 col1\" >mafudge@syr.edu</td>\n",
       "      <td id=\"T_7c170_row0_col2\" class=\"data row0 col2\" >2024-01-06 20:03</td>\n",
       "      <td id=\"T_7c170_row0_col3\" class=\"data row0 col3\" >False</td>\n",
       "      <td id=\"T_7c170_row0_col4\" class=\"data row0 col4\" >2024-01-06 23:59</td>\n",
       "    </tr>\n",
       "    <tr>\n",
       "      <th id=\"T_7c170_level0_row1\" class=\"row_heading level0 row1\" >1</th>\n",
       "      <td id=\"T_7c170_row1_col0\" class=\"data row1 col0\" >dlnosky@syr.edu</td>\n",
       "      <td id=\"T_7c170_row1_col1\" class=\"data row1 col1\" >dlnosky@syr.edu</td>\n",
       "      <td id=\"T_7c170_row1_col2\" class=\"data row1 col2\" >None</td>\n",
       "      <td id=\"T_7c170_row1_col3\" class=\"data row1 col3\" >None</td>\n",
       "      <td id=\"T_7c170_row1_col4\" class=\"data row1 col4\" >2024-01-06 23:59</td>\n",
       "    </tr>\n",
       "  </tbody>\n",
       "</table>\n"
      ],
      "text/plain": [
       "<pandas.io.formats.style.Styler at 0x7f0aa6b89550>"
      ]
     },
     "execution_count": 80,
     "metadata": {},
     "output_type": "execute_result"
    }
   ],
   "source": [
    "def make_clickable(url, name):\n",
    "    if url is np.nan:\n",
    "        return name\n",
    "    else:\n",
    "        return '<a href=\"{}\" rel=\"noopener noreferrer\">{}</a>'.format(url,name)\n",
    "\n",
    "df['link'] = df.apply(lambda row: make_clickable(row['notebookfile'], row['student'] ), axis=1)\n",
    "df[['link','student','submitted_on','late', 'due_date']].style\n"
   ]
  },
  {
   "cell_type": "code",
   "execution_count": 58,
   "id": "93df177f-c08b-47fe-8536-2dc73bc83dd0",
   "metadata": {},
   "outputs": [
    {
     "data": {
      "text/plain": [
       "datetime.datetime(2024, 1, 6, 20, 3)"
      ]
     },
     "execution_count": 58,
     "metadata": {},
     "output_type": "execute_result"
    }
   ],
   "source": [
    "def remove_time_offset(time_string_iso_with_offset: str, timezone: str) -> datetime:\n",
    "    from zoneinfo import ZoneInfo\n",
    "    dt = datetime.fromisoformat(time_string_iso_with_offset).astimezone(ZoneInfo(\"America/New_York\"))\n",
    "    dts = dt.strftime(\"%Y-%m-%d %H:%M\")\n",
    "    return dts\n",
    "\n",
    "\n",
    "remove_time_offset(mds, \"America/New_York\")\n"
   ]
  },
  {
   "cell_type": "code",
   "execution_count": 59,
   "id": "89f72056-c529-434a-a6d9-409b6494ebf5",
   "metadata": {
    "tags": []
   },
   "outputs": [],
   "source": [
    "minio_submission = \"2024-01-07T01:03:16.895000+00:00\"\n",
    "duedate = \"2024-01-06 23:59\"\n",
    "minio_submission_dt = remove_time_offset(minio_submission, \"America/New_York\")\n",
    "duedate_dt =  datetime.fromisoformat(d2)"
   ]
  },
  {
   "cell_type": "code",
   "execution_count": 61,
   "id": "3836d466-2277-4aff-a434-b1d62fa0d1d9",
   "metadata": {
    "tags": []
   },
   "outputs": [
    {
     "data": {
      "text/plain": [
       "(datetime.datetime(2024, 1, 6, 20, 3),\n",
       " datetime.datetime(2024, 1, 6, 23, 59),\n",
       " True)"
      ]
     },
     "execution_count": 61,
     "metadata": {},
     "output_type": "execute_result"
    }
   ],
   "source": [
    "minio_submission_dt, duedate_dt, minio_submission_dt < duedate_dt"
   ]
  },
  {
   "cell_type": "code",
   "execution_count": 48,
   "id": "30a326dc-dcb9-46f3-9f87-8a35577b428e",
   "metadata": {
    "tags": []
   },
   "outputs": [
    {
     "data": {
      "text/plain": [
       "datetime.datetime(2024, 1, 6, 20, 3, 16, 895000, tzinfo=zoneinfo.ZoneInfo(key='America/New_York'))"
      ]
     },
     "execution_count": 48,
     "metadata": {},
     "output_type": "execute_result"
    }
   ],
   "source": []
  },
  {
   "cell_type": "code",
   "execution_count": null,
   "id": "4b2f653f-ddb9-4967-a079-576de350e391",
   "metadata": {},
   "outputs": [],
   "source": []
  }
 ],
 "metadata": {
  "kernelspec": {
   "display_name": "Python 3 (ipykernel)",
   "language": "python",
   "name": "python3"
  },
  "language_info": {
   "codemirror_mode": {
    "name": "ipython",
    "version": 3
   },
   "file_extension": ".py",
   "mimetype": "text/x-python",
   "name": "python",
   "nbconvert_exporter": "python",
   "pygments_lexer": "ipython3",
   "version": "3.11.7"
  }
 },
 "nbformat": 4,
 "nbformat_minor": 5
}
