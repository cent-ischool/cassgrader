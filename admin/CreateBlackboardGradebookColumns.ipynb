{
 "cells": [
  {
   "cell_type": "markdown",
   "id": "ab154d3c-c895-427a-85b3-17964445fd80",
   "metadata": {},
   "source": [
    "This code uses the blackboard API to create gradebook columns from the syllabus"
   ]
  },
  {
   "cell_type": "code",
   "execution_count": 1,
   "id": "1fe03d9d-3184-40fa-89ef-dd3677cd044d",
   "metadata": {
    "tags": []
   },
   "outputs": [
    {
     "name": "stdout",
     "output_type": "stream",
     "text": [
      "\u001b[33m  WARNING: The script pyppeteer-install is installed in '/home/jovyan/.local/bin' which is not on PATH.\n",
      "  Consider adding this directory to PATH or, if you prefer to suppress this warning, use --no-warn-script-location.\u001b[0m\u001b[33m\n",
      "\u001b[0m\u001b[33m  WARNING: The script dateparser-download is installed in '/home/jovyan/.local/bin' which is not on PATH.\n",
      "  Consider adding this directory to PATH or, if you prefer to suppress this warning, use --no-warn-script-location.\u001b[0m\u001b[33m\n",
      "\u001b[0m"
     ]
    }
   ],
   "source": [
    "!pip install -q --user bbrest"
   ]
  },
  {
   "cell_type": "code",
   "execution_count": 2,
   "id": "62fbc8ef-77a6-4738-bb55-15465e504ac9",
   "metadata": {
    "tags": []
   },
   "outputs": [],
   "source": [
    "from bbrest import BbRest\n",
    "import pandas as pd\n",
    "import requests\n",
    "import datetime"
   ]
  },
  {
   "cell_type": "code",
   "execution_count": 3,
   "id": "14c14996-fb62-41df-8fd7-02cc41773906",
   "metadata": {
    "tags": []
   },
   "outputs": [],
   "source": [
    "def to_utc_in_isoformat(date):\n",
    "    m, d, y = date.split(\"/\")\n",
    "    localtime = datetime.datetime(int(y), int(m), int(d), 23, 59, 0)\n",
    "    utctime = localtime.astimezone(datetime.timezone.utc)\n",
    "    return utctime.isoformat()\n",
    "\n",
    "\n",
    "assert to_utc_in_isoformat(\"12/1/2023\") == \"2023-12-02T04:59:00+00:00\""
   ]
  },
  {
   "cell_type": "code",
   "execution_count": 4,
   "id": "c9876df4-5538-4902-b070-bcccb95f3e55",
   "metadata": {
    "tags": []
   },
   "outputs": [
    {
     "name": "stderr",
     "output_type": "stream",
     "text": [
      "/tmp/ipykernel_232/2711504448.py:5: FutureWarning: Passing literal html to 'read_html' is deprecated and will be removed in a future version. To read from a literal string, wrap it in a 'StringIO' object.\n",
      "  assignments = pd.read_html(response.text)[-1]\n"
     ]
    }
   ],
   "source": [
    "response = requests.get(\"http://ist256.com/syllabus/\", headers={\n",
    "        \"User-Agent\" : \"Mozilla/5.0 (Windows NT 10.0; Win64; x64) AppleWebKit/537.36 (KHTML, like Gecko) Chrome/97.0.4692.71 Safari/537.36\"\n",
    "    }\n",
    ")\n",
    "assignments = pd.read_html(response.text)[-1]"
   ]
  },
  {
   "cell_type": "code",
   "execution_count": 5,
   "id": "024b8658-6442-44a5-b69f-b3c1e4959b23",
   "metadata": {
    "tags": []
   },
   "outputs": [
    {
     "data": {
      "text/plain": [
       "{'id': '_530562_1',\n",
       " 'uuid': 'b306f4127e9f4ae58f5819643a05bcf6',\n",
       " 'externalId': '17008.1251m',\n",
       " 'dataSourceId': '_2_1',\n",
       " 'courseId': '17008.1251m',\n",
       " 'name': 'IST.256.MERGED.FALL24.Intro to Python for Info Prof',\n",
       " 'created': '2024-08-01T18:28:56.090Z',\n",
       " 'modified': '2024-08-06T15:09:32.668Z',\n",
       " 'organization': False,\n",
       " 'ultraStatus': 'Ultra',\n",
       " 'allowGuests': False,\n",
       " 'allowObservers': True,\n",
       " 'closedComplete': False,\n",
       " 'termId': '_278_1',\n",
       " 'availability': {'available': 'No',\n",
       "  'duration': {'type': 'DateRange',\n",
       "   'start': '2024-07-31T04:00:00.000Z',\n",
       "   'end': '2025-01-31T05:00:00.000Z'}},\n",
       " 'enrollment': {'type': 'InstructorLed'},\n",
       " 'locale': {'force': False},\n",
       " 'hasChildren': True,\n",
       " 'externalAccessUrl': 'https://blackboard.syracuse.edu/ultra/courses/_530562_1/outline'}"
      ]
     },
     "execution_count": 5,
     "metadata": {},
     "output_type": "execute_result"
    }
   ],
   "source": [
    "appkey = \"89abd9f0-2aa5-4c10-8738-6394077e8b9d\"\n",
    "secret = \"38kGcvte5VswC6nfvDcCDASf74RHEEO9\"\n",
    "appid = \"8c67899c-5ded-4ba3-8c9e-f395bfa8d52e\"\n",
    "url = \"https://blackboard.syracuse.edu\"\n",
    "cid = \"17008.1251m\" # course ID TODO set to current course id\n",
    "bb = BbRest(appkey, secret, url)\n",
    "courseinfo = bb.GetCourse(courseId=cid)\n",
    "courseinfo.json()"
   ]
  },
  {
   "cell_type": "code",
   "execution_count": 6,
   "id": "14666342-6f7d-4e86-807d-5c96933be326",
   "metadata": {
    "tags": []
   },
   "outputs": [],
   "source": [
    "response = bb.GetGradeColumns(courseId=cid)\n",
    "gradebook_cols = response.json()"
   ]
  },
  {
   "cell_type": "code",
   "execution_count": 7,
   "id": "b0aa76d4-3479-4e3f-8c0d-9f2b77dcdc6b",
   "metadata": {
    "tags": []
   },
   "outputs": [
    {
     "name": "stdout",
     "output_type": "stream",
     "text": [
      "Updating L01 FROM:2024-01-24T04:59:00.000Z TO:2024-08-28T03:59:00+00:00 |points=3.0\n",
      "Updating S01 FROM:2024-01-25T04:59:00.000Z TO:2024-08-29T03:59:00+00:00 |points=3.0\n",
      "Updating H01 FROM:2024-01-27T04:59:00.000Z TO:2024-08-31T03:59:00+00:00 |points=3.0\n",
      "Updating L02 FROM:2024-01-31T04:59:00.000Z TO:2024-09-04T03:59:00+00:00 |points=3.0\n",
      "Updating S02 FROM:2024-02-01T04:59:00.000Z TO:2024-09-05T03:59:00+00:00 |points=3.0\n",
      "Updating H02 FROM:2024-02-03T04:59:00.000Z TO:2024-09-07T03:59:00+00:00 |points=3.0\n",
      "Updating L03 FROM:2024-02-07T04:59:00.000Z TO:2024-09-11T03:59:00+00:00 |points=3.0\n",
      "Updating S03 FROM:2024-02-08T04:59:00.000Z TO:2024-09-12T03:59:00+00:00 |points=3.0\n",
      "Updating H03 FROM:2024-02-10T04:59:00.000Z TO:2024-09-14T03:59:00+00:00 |points=3.0\n",
      "Updating L04 FROM:2024-02-13T23:59:00.000Z TO:2024-09-18T03:59:00+00:00 |points=3.0\n",
      "Updating S04 FROM:2024-02-14T23:59:00.000Z TO:2024-09-19T03:59:00+00:00 |points=3.0\n",
      "Updating E1 FROM:2024-02-14T23:59:00.000Z TO:2024-09-19T03:59:00+00:00 |points=23.0\n",
      "Updating H04 FROM:2024-02-16T23:59:00.000Z TO:2024-09-21T03:59:00+00:00 |points=3.0\n",
      "Updating L05 FROM:2024-02-20T23:59:00.000Z TO:2024-09-25T03:59:00+00:00 |points=3.0\n",
      "Updating S05 FROM:2024-02-21T23:59:00.000Z TO:2024-09-26T03:59:00+00:00 |points=3.0\n",
      "Updating H05 FROM:2024-02-23T23:59:00.000Z TO:2024-09-28T03:59:00+00:00 |points=3.0\n",
      "Updating L06 FROM:2024-02-27T23:59:00.000Z TO:2024-10-02T03:59:00+00:00 |points=3.0\n",
      "Updating S06 FROM:2024-02-28T23:59:00.000Z TO:2024-10-03T03:59:00+00:00 |points=3.0\n",
      "Updating H06 FROM:2024-03-01T23:59:00.000Z TO:2024-10-05T03:59:00+00:00 |points=3.0\n",
      "Updating L07 FROM:2024-03-05T23:59:00.000Z TO:2024-10-09T03:59:00+00:00 |points=3.0\n",
      "Updating S07 FROM:2024-03-06T23:59:00.000Z TO:2024-10-10T03:59:00+00:00 |points=3.0\n",
      "Updating H07 FROM:2024-03-08T23:59:00.000Z TO:2024-10-12T03:59:00+00:00 |points=3.0\n",
      "Updating E2 FROM:2024-03-06T23:59:00.000Z TO:2024-10-17T03:59:00+00:00 |points=23.0\n",
      "Updating L08 FROM:2024-03-18T23:59:00.000Z TO:2024-10-23T03:59:00+00:00 |points=3.0\n",
      "Updating S08 FROM:2024-03-19T23:59:00.000Z TO:2024-10-24T03:59:00+00:00 |points=3.0\n",
      "Updating H08 FROM:2024-03-22T23:59:00.000Z TO:2024-10-26T03:59:00+00:00 |points=3.0\n",
      "Updating L09 FROM:2024-03-25T23:59:00.000Z TO:2024-10-30T03:59:00+00:00 |points=3.0\n",
      "Updating S09 FROM:2024-03-26T23:59:00.000Z TO:2024-10-31T03:59:00+00:00 |points=3.0\n",
      "Updating H09 FROM:2024-03-29T23:59:00.000Z TO:2024-11-02T03:59:00+00:00 |points=3.0\n",
      "Updating L10 FROM:2024-04-02T23:59:00.000Z TO:2024-11-06T04:59:00+00:00 |points=3.0\n",
      "Updating S10 FROM:2024-04-03T23:59:00.000Z TO:2024-11-07T04:59:00+00:00 |points=3.0\n",
      "Updating E3 FROM:2024-04-03T23:59:00.000Z TO:2024-11-07T04:59:00+00:00 |points=22.0\n",
      "Updating H10 FROM:2024-04-05T23:59:00.000Z TO:2024-11-09T04:59:00+00:00 |points=3.0\n",
      "Updating L11 FROM:2024-04-09T23:59:00.000Z TO:2024-11-13T04:59:00+00:00 |points=3.0\n",
      "Updating S11 FROM:2024-04-10T23:59:00.000Z TO:2024-11-14T04:59:00+00:00 |points=3.0\n",
      "Updating H11 FROM:2024-04-12T23:59:00.000Z TO:2024-11-16T04:59:00+00:00 |points=3.0\n",
      "Updating P1 FROM:2024-04-12T23:59:00.000Z TO:2024-11-16T04:59:00+00:00 |points=0.0\n",
      "Updating L12 FROM:2024-04-16T23:59:00.000Z TO:2024-11-20T04:59:00+00:00 |points=3.0\n",
      "Updating S12 FROM:2024-04-17T23:59:00.000Z TO:2024-11-21T04:59:00+00:00 |points=3.0\n",
      "Updating H12 FROM:2024-04-19T23:59:00.000Z TO:2024-11-23T04:59:00+00:00 |points=3.0\n",
      "Updating L13 FROM:2024-04-23T23:59:00.000Z TO:2024-12-04T04:59:00+00:00 |points=3.0\n",
      "Updating S13 FROM:2024-04-24T23:59:00.000Z TO:2024-12-05T04:59:00+00:00 |points=3.0\n",
      "Updating H13 FROM:2024-04-26T23:59:00.000Z TO:2024-12-07T04:59:00+00:00 |points=3.0\n",
      "Updating P2 FROM:2024-04-29T23:59:00.000Z TO:2024-12-07T04:59:00+00:00 |points=0.0\n",
      "Updating E4 FROM:2024-04-24T23:59:00.000Z TO:2024-12-10T04:59:00+00:00 |points=22.0\n",
      "Updating P3 FROM:2024-05-07T23:59:00.000Z TO:2024-12-17T04:59:00+00:00 |points=0.0\n",
      "Updating P4 FROM:2024-05-07T23:59:00.000Z TO:2024-12-17T04:59:00+00:00 |points=49.0\n"
     ]
    }
   ],
   "source": [
    "for a in assignments.to_records():\n",
    "    for g in gradebook_cols['results']:\n",
    "        if a['Gradebook'] == g['name']:\n",
    "            g['score']['possible'] = float(a['Points'])\n",
    "            old = g['grading']['due']\n",
    "            g['grading']['due'] = to_utc_in_isoformat(a['Date Due'])\n",
    "            print(f\"Updating {g['name']} FROM:{old} TO:{g['grading']['due']} |points={g['score']['possible']}\")\n",
    "            bb.UpdateGradeColumn(courseId=cid, columnId=g['id'], payload=g)\n",
    "            break"
   ]
  },
  {
   "cell_type": "code",
   "execution_count": 10,
   "id": "531cf066-2982-4991-ad72-7041d6c1570d",
   "metadata": {},
   "outputs": [
    {
     "data": {
      "text/plain": [
       "{'id': '_2736325_1',\n",
       " 'name': 'E2',\n",
       " 'created': '2023-08-11T18:42:22.106Z',\n",
       " 'score': {'possible': 45.0},\n",
       " 'availability': {'available': 'Yes'},\n",
       " 'grading': {'type': 'Manual',\n",
       "  'due': '2023-12-12T04:59:00.000Z',\n",
       "  'schemaId': '_2105660_1'},\n",
       " 'gradebookCategoryId': '_4694889_1',\n",
       " 'includeInCalculations': True,\n",
       " 'showStatisticsToStudents': False}"
      ]
     },
     "execution_count": 10,
     "metadata": {},
     "output_type": "execute_result"
    }
   ],
   "source": [
    "g"
   ]
  },
  {
   "cell_type": "code",
   "execution_count": null,
   "id": "c4d2007d-ca46-482f-b7af-a4d272f643c1",
   "metadata": {},
   "outputs": [],
   "source": []
  },
  {
   "cell_type": "code",
   "execution_count": null,
   "id": "be762418-b052-495b-8e58-3e1fe9b57c8c",
   "metadata": {},
   "outputs": [],
   "source": []
  },
  {
   "cell_type": "code",
   "execution_count": null,
   "id": "38fa5681-d8ff-43c6-ae9d-6aea73f6dc89",
   "metadata": {},
   "outputs": [],
   "source": []
  },
  {
   "cell_type": "code",
   "execution_count": null,
   "id": "949e1d60-7b7d-4d0c-af1e-a61bd067b36b",
   "metadata": {},
   "outputs": [],
   "source": [
    "# OLD\n",
    "def replace_date(date, timestamp):\n",
    "    m, d, y = date.split(\"/\")\n",
    "    new_date = f\"{int(y):04d}-{int(m):02d}-{int(d):02d}\"\n",
    "    time = timestamp.split(\"T\")[-1]\n",
    "    new_timestamp = f\"{new_date}T23:59:00\"\n",
    "    return new_timestamp\n",
    "\n",
    "\n",
    "assert replace_date(\"1/30/2023\",\"1999-12-12T12:00\") == '2023-01-30T12:00'"
   ]
  }
 ],
 "metadata": {
  "kernelspec": {
   "display_name": "Python 3 (ipykernel)",
   "language": "python",
   "name": "python3"
  },
  "language_info": {
   "codemirror_mode": {
    "name": "ipython",
    "version": 3
   },
   "file_extension": ".py",
   "mimetype": "text/x-python",
   "name": "python",
   "nbconvert_exporter": "python",
   "pygments_lexer": "ipython3",
   "version": "3.11.7"
  }
 },
 "nbformat": 4,
 "nbformat_minor": 5
}
