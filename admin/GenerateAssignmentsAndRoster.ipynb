{
 "cells": [
  {
   "cell_type": "markdown",
   "metadata": {},
   "source": [
    "Use this script to generate an assignment list and roster file from a blackboard gradebook download"
   ]
  },
  {
   "cell_type": "code",
   "execution_count": 5,
   "metadata": {
    "tags": []
   },
   "outputs": [],
   "source": [
    "!pip install -qq --user openpyxl"
   ]
  },
  {
   "cell_type": "code",
   "execution_count": 1,
   "metadata": {
    "tags": []
   },
   "outputs": [],
   "source": [
    "import pandas as pd\n",
    "import requests\n",
    "import glob\n",
    "from IPython.display import display, HTML\n",
    "from ipywidgets import interact_manual, widgets\n",
    "from datetime import datetime"
   ]
  },
  {
   "cell_type": "code",
   "execution_count": 14,
   "metadata": {
    "tags": []
   },
   "outputs": [],
   "source": [
    "def get_table(syllabus_url='http://ist256.com/syllabus', table=1):\n",
    "    headers = {\n",
    "        \"User-Agent\": \"Mozilla/5.0 (X11; Linux x86_64) AppleWebKit/537.36 (KHTML, like Gecko) Chrome/50.0.2661.75 Safari/537.36\",\n",
    "        \"X-Requested-With\": \"XMLHttpRequest\"\n",
    "    }\n",
    "    response = requests.get(syllabus_url, headers=headers)\n",
    "    html = pd.read_html(response.text)\n",
    "    return html[table]\n",
    "\n",
    "\n",
    "def generate_column(gradebook, columns):\n",
    "    for col in columns:\n",
    "        if col.startswith(gradebook):\n",
    "            colid = col.split(\"|\")[-1]\n",
    "            return gradebook + \"|\" + colid\n",
    "\n",
    "\n",
    "def create_assignments_df(a_df, b_df_columns):\n",
    "    assignments_df = a_df[a_df['Where?'] == 'Jupyterhub'].copy()\n",
    "    assignments_df['points'] = assignments_df['Points']\n",
    "    assignments_df['unit_name'] = assignments_df['What is Due?'].apply(\n",
    "        lambda s: s.split('/')[0]\n",
    "    )\n",
    "    assignments_df['assignment_name'] = assignments_df['What is Due?'].apply(\n",
    "        lambda s: s.split('/')[1]\n",
    "    )\n",
    "    assignments_df['due_date'] = assignments_df.apply(\n",
    "        lambda row: row['Date Due'] + ' ' + row['Time Due'], axis=1\n",
    "    )\n",
    "    assignments_df['lms_column_id'] = assignments_df['Gradebook'].apply(\n",
    "        lambda g: generate_column(g, b_df_columns)\n",
    "    )\n",
    "    assignments_df_out = assignments_df[\n",
    "        ['unit_name', 'assignment_name', 'points', 'due_date', 'lms_column_id']\n",
    "    ]\n",
    "    return assignments_df_out\n",
    "\n",
    "\n",
    "def create_roster_df(b_df, t_df, email_domain=\"@syr.edu\"):\n",
    "    roster_df = b_df[b_df['Username'].str.find(\"_previewuser\") == -1].copy()\n",
    "    roster_df['class_no'] = roster_df['Child Course ID'].dropna().astype(int)\n",
    "    roster_df['student'] = roster_df['Username']\n",
    "    t_df['instructor'] = t_df['Professor Email'].str.replace(email_domain, \"\")\n",
    "    merged_df = pd.merge(\n",
    "        roster_df, t_df, left_on=\"class_no\", right_on=\"Class #\"\n",
    "    )\n",
    "    roster_df_out = merged_df[['student', 'instructor']]\n",
    "    additions_df = pd.DataFrame({'student': t_df['instructor'].unique(),\n",
    "                                 'instructor': t_df['instructor'].unique()})\n",
    "    roster_df_out = pd.concat([roster_df_out, additions_df], ignore_index=True)\n",
    "    roster_df_out['student'] = roster_df_out.apply(\n",
    "        lambda row: row['student'] + email_domain, axis=1\n",
    "    )\n",
    "    roster_df_out['instructor'] = roster_df_out.apply(\n",
    "        lambda row: row['instructor'] + email_domain, axis=1\n",
    "    )\n",
    "    roster_df_out['grader'] = roster_df_out['instructor']\n",
    "\n",
    "    return roster_df_out[['student', 'instructor', 'grader']]"
   ]
  },
  {
   "cell_type": "code",
   "execution_count": 10,
   "metadata": {
    "tags": []
   },
   "outputs": [
    {
     "name": "stderr",
     "output_type": "stream",
     "text": [
      "/tmp/ipykernel_2026/3265084508.py:7: FutureWarning: Passing literal html to 'read_html' is deprecated and will be removed in a future version. To read from a literal string, wrap it in a 'StringIO' object.\n",
      "  html = pd.read_html(response.text)\n"
     ]
    },
    {
     "data": {
      "text/html": [
       "<div>\n",
       "<style scoped>\n",
       "    .dataframe tbody tr th:only-of-type {\n",
       "        vertical-align: middle;\n",
       "    }\n",
       "\n",
       "    .dataframe tbody tr th {\n",
       "        vertical-align: top;\n",
       "    }\n",
       "\n",
       "    .dataframe thead th {\n",
       "        text-align: right;\n",
       "    }\n",
       "</style>\n",
       "<table border=\"1\" class=\"dataframe\">\n",
       "  <thead>\n",
       "    <tr style=\"text-align: right;\">\n",
       "      <th></th>\n",
       "      <th>student</th>\n",
       "      <th>instructor</th>\n",
       "      <th>grader</th>\n",
       "    </tr>\n",
       "  </thead>\n",
       "  <tbody>\n",
       "    <tr>\n",
       "      <th>0</th>\n",
       "      <td>aiabdela@syr.edu</td>\n",
       "      <td>pjagadev@syr.edu</td>\n",
       "      <td>pjagadev@syr.edu</td>\n",
       "    </tr>\n",
       "    <tr>\n",
       "      <th>1</th>\n",
       "      <td>ekbazile@syr.edu</td>\n",
       "      <td>pjagadev@syr.edu</td>\n",
       "      <td>pjagadev@syr.edu</td>\n",
       "    </tr>\n",
       "    <tr>\n",
       "      <th>2</th>\n",
       "      <td>rebegley@syr.edu</td>\n",
       "      <td>pjagadev@syr.edu</td>\n",
       "      <td>pjagadev@syr.edu</td>\n",
       "    </tr>\n",
       "    <tr>\n",
       "      <th>3</th>\n",
       "      <td>ancranda@syr.edu</td>\n",
       "      <td>pjagadev@syr.edu</td>\n",
       "      <td>pjagadev@syr.edu</td>\n",
       "    </tr>\n",
       "    <tr>\n",
       "      <th>4</th>\n",
       "      <td>cdavis39@syr.edu</td>\n",
       "      <td>pjagadev@syr.edu</td>\n",
       "      <td>pjagadev@syr.edu</td>\n",
       "    </tr>\n",
       "    <tr>\n",
       "      <th>...</th>\n",
       "      <td>...</td>\n",
       "      <td>...</td>\n",
       "      <td>...</td>\n",
       "    </tr>\n",
       "    <tr>\n",
       "      <th>96</th>\n",
       "      <td>jsmit163@syr.edu</td>\n",
       "      <td>nschneid@syr.edu</td>\n",
       "      <td>nschneid@syr.edu</td>\n",
       "    </tr>\n",
       "    <tr>\n",
       "      <th>97</th>\n",
       "      <td>artrawal@syr.edu</td>\n",
       "      <td>nschneid@syr.edu</td>\n",
       "      <td>nschneid@syr.edu</td>\n",
       "    </tr>\n",
       "    <tr>\n",
       "      <th>0</th>\n",
       "      <td>mafudge@syr.edu</td>\n",
       "      <td>mafudge@syr.edu</td>\n",
       "      <td>mafudge@syr.edu</td>\n",
       "    </tr>\n",
       "    <tr>\n",
       "      <th>1</th>\n",
       "      <td>pjagadev@syr.edu</td>\n",
       "      <td>pjagadev@syr.edu</td>\n",
       "      <td>pjagadev@syr.edu</td>\n",
       "    </tr>\n",
       "    <tr>\n",
       "      <th>2</th>\n",
       "      <td>nschneid@syr.edu</td>\n",
       "      <td>nschneid@syr.edu</td>\n",
       "      <td>nschneid@syr.edu</td>\n",
       "    </tr>\n",
       "  </tbody>\n",
       "</table>\n",
       "<p>101 rows × 3 columns</p>\n",
       "</div>"
      ],
      "text/plain": [
       "             student        instructor            grader\n",
       "0   aiabdela@syr.edu  pjagadev@syr.edu  pjagadev@syr.edu\n",
       "1   ekbazile@syr.edu  pjagadev@syr.edu  pjagadev@syr.edu\n",
       "2   rebegley@syr.edu  pjagadev@syr.edu  pjagadev@syr.edu\n",
       "3   ancranda@syr.edu  pjagadev@syr.edu  pjagadev@syr.edu\n",
       "4   cdavis39@syr.edu  pjagadev@syr.edu  pjagadev@syr.edu\n",
       "..               ...               ...               ...\n",
       "96  jsmit163@syr.edu  nschneid@syr.edu  nschneid@syr.edu\n",
       "97  artrawal@syr.edu  nschneid@syr.edu  nschneid@syr.edu\n",
       "0    mafudge@syr.edu   mafudge@syr.edu   mafudge@syr.edu\n",
       "1   pjagadev@syr.edu  pjagadev@syr.edu  pjagadev@syr.edu\n",
       "2   nschneid@syr.edu  nschneid@syr.edu  nschneid@syr.edu\n",
       "\n",
       "[101 rows x 3 columns]"
      ]
     },
     "execution_count": 10,
     "metadata": {},
     "output_type": "execute_result"
    }
   ],
   "source": [
    "email_domain = \"@syr.edu\"\n",
    "t_df = get_table(syllabus_url, table=0)\n",
    "b_df = pd.read_excel(\"./gradebooks/gc_17008.1251m_fullgc_2024-08-06-12-21-46.xlsx\")\n",
    "\n",
    "roster_df = b_df[b_df['Username'].str.find(\"_previewuser\") == -1].copy()\n",
    "roster_df['class_no'] = roster_df['Child Course ID'].dropna().astype(int)\n",
    "roster_df['student'] = roster_df['Username']\n",
    "t_df['instructor'] = t_df['Professor Email'].str.replace(email_domain, \"\")\n",
    "merged_df = pd.merge(roster_df, t_df, left_on=\"class_no\", right_on=\"Class #\")\n",
    "roster_df_out = merged_df[['student', 'instructor']]\n",
    "additions_df = pd.DataFrame({'student': t_df['instructor'].unique(), 'instructor': t_df['instructor'].unique()})\n",
    "roster_df_out = pd.concat([roster_df_out, additions_df], ignore_index=True)\n",
    "roster_df_out.sample(10)\n",
    "roster_df_out['student'] = roster_df_out.apply(\n",
    "    lambda row: row['student'] + email_domain, axis=1\n",
    ")\n",
    "roster_df_out['instructor'] = roster_df_out.apply(\n",
    "    lambda row: row['instructor'] + email_domain, axis=1\n",
    ")\n",
    "roster_df_out['grader'] = roster_df_out['instructor']\n",
    "roster_df_out"
   ]
  },
  {
   "cell_type": "code",
   "execution_count": 15,
   "metadata": {
    "tags": []
   },
   "outputs": [
    {
     "data": {
      "application/vnd.jupyter.widget-view+json": {
       "model_id": "15cdb4dc9ef4417fabc726455d49d3a6",
       "version_major": 2,
       "version_minor": 0
      },
      "text/plain": [
       "interactive(children=(Text(value='ist256-fall2024', continuous_update=False, description='term'), Dropdown(des…"
      ]
     },
     "metadata": {},
     "output_type": "display_data"
    }
   ],
   "source": [
    "files = glob.glob(\"gradebooks/*.xlsx\")\n",
    "files.sort()\n",
    "syllabus_url = 'http://ist256.com/syllabus'\n",
    "data_path = \"./data\"\n",
    "email_suffix = \"@syr.edu\"\n",
    "files_dropdown = widgets.Dropdown(\n",
    "            options=files,\n",
    "            description='Gradebook File:', layout={'width': 'max-content'}\n",
    ")\n",
    "\n",
    "@interact_manual(term=\"ist256-fall2024\", gradebook_file=files_dropdown)\n",
    "def onclick(term, gradebook_file):\n",
    "    timestamp = gradebook_file.split(\"_\")[-1].replace(\".xlsx\", \"\")\n",
    "    assignments_file = f\"{data_path}/{term}-assignments.csv\"\n",
    "    roster_file = f\"{data_path}/{term}-roster.csv\"\n",
    "    display(HTML(f\"GRADEBOOK FILE: {gradebook_file}\"))\n",
    "    a_df = get_table(syllabus_url, table=-1)\n",
    "    t_df = get_table(syllabus_url, table=0)\n",
    "    b_df = pd.read_excel(gradebook_file)\n",
    "    assignments_df = create_assignments_df(a_df, b_df.columns)\n",
    "    roster_df = create_roster_df(b_df, t_df)\n",
    "    assignments_df.to_csv(assignments_file, index=False, header=True)\n",
    "    roster_df.to_csv(roster_file, index=False, header=True)\n",
    "    display(HTML(f\"ASSIGMENTS FILE: {assignments_file}\"))\n",
    "    display(HTML(f\"ROSTER FILE: {roster_file}\"))"
   ]
  },
  {
   "cell_type": "code",
   "execution_count": 5,
   "metadata": {
    "tags": []
   },
   "outputs": [],
   "source": []
  },
  {
   "cell_type": "code",
   "execution_count": null,
   "metadata": {},
   "outputs": [],
   "source": []
  },
  {
   "cell_type": "code",
   "execution_count": null,
   "metadata": {},
   "outputs": [],
   "source": []
  },
  {
   "cell_type": "code",
   "execution_count": null,
   "metadata": {},
   "outputs": [],
   "source": []
  },
  {
   "cell_type": "code",
   "execution_count": null,
   "metadata": {},
   "outputs": [],
   "source": [
    "timestamp = datetime.now().strftime(\"%Y-%m-%d-%H-%M-%S\")"
   ]
  }
 ],
 "metadata": {
  "kernelspec": {
   "display_name": "Python 3 (ipykernel)",
   "language": "python",
   "name": "python3"
  },
  "language_info": {
   "codemirror_mode": {
    "name": "ipython",
    "version": 3
   },
   "file_extension": ".py",
   "mimetype": "text/x-python",
   "name": "python",
   "nbconvert_exporter": "python",
   "pygments_lexer": "ipython3",
   "version": "3.11.7"
  },
  "varInspector": {
   "cols": {
    "lenName": 16,
    "lenType": 16,
    "lenVar": 40
   },
   "kernels_config": {
    "python": {
     "delete_cmd_postfix": "",
     "delete_cmd_prefix": "del ",
     "library": "var_list.py",
     "varRefreshCmd": "print(var_dic_list())"
    },
    "r": {
     "delete_cmd_postfix": ") ",
     "delete_cmd_prefix": "rm(",
     "library": "var_list.r",
     "varRefreshCmd": "cat(var_dic_list()) "
    }
   },
   "types_to_exclude": [
    "module",
    "function",
    "builtin_function_or_method",
    "instance",
    "_Feature"
   ],
   "window_display": false
  }
 },
 "nbformat": 4,
 "nbformat_minor": 4
}
