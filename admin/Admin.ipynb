{
 "cells": [
  {
   "cell_type": "code",
   "execution_count": 9,
   "id": "fb8581f0-a6b3-42c7-8941-a9cfdfb30d26",
   "metadata": {
    "tags": []
   },
   "outputs": [],
   "source": [
    "from casstools.course_model import Course\n",
    "from casstools.cass_client import CassClient"
   ]
  },
  {
   "cell_type": "code",
   "execution_count": 10,
   "id": "1d3b465c-a734-4994-9df7-b71f470dbecd",
   "metadata": {
    "tags": []
   },
   "outputs": [],
   "source": [
    "client = CassClient()"
   ]
  },
  {
   "cell_type": "code",
   "execution_count": 11,
   "id": "fe636400-5d2a-47b8-85b2-6e833dd8a172",
   "metadata": {
    "tags": []
   },
   "outputs": [
    {
     "data": {
      "text/plain": [
       "{'valid': True,\n",
       " 'last_activity': '2024-01-07T00:49:10.947745Z',\n",
       " 'name': 'mafudge@syr.edu',\n",
       " 'admin': True,\n",
       " 'kind': 'user',\n",
       " 'groups': [],\n",
       " 'fake_token': False}"
      ]
     },
     "execution_count": 11,
     "metadata": {},
     "output_type": "execute_result"
    }
   ],
   "source": [
    "me = client.whoami()\n",
    "me"
   ]
  },
  {
   "cell_type": "code",
   "execution_count": 16,
   "id": "56ffb9a4-f469-4394-80de-e7fbb3325e6e",
   "metadata": {
    "tags": []
   },
   "outputs": [],
   "source": [
    "course = \"tst101\"\n",
    "term = \"spring2024\"\n",
    "git = \"https://github.com/tst101\"\n",
    "base = \"/home/jovyan/library/grading/admin/\""
   ]
  },
  {
   "cell_type": "code",
   "execution_count": 17,
   "id": "9b97a641-332b-4afd-a1ff-504babd679d3",
   "metadata": {
    "tags": []
   },
   "outputs": [],
   "source": [
    "status = client.add_course(course,term,git)\n",
    "course_key = f\"{course}-{term}\"\n",
    "courses_list = client.get_courses()\n",
    "results = client.add_course_assignments(course_key, base+\"/data/tst101-assignments.csv\")\n",
    "results = client.add_course_roster(course_key, base+\"/data/tst101-roster.csv\")"
   ]
  },
  {
   "cell_type": "code",
   "execution_count": 18,
   "id": "ecf30dcb-6a22-4765-8a4c-e54b5cccdb88",
   "metadata": {
    "tags": []
   },
   "outputs": [
    {
     "data": {
      "text/html": [
       "<div>\n",
       "<style scoped>\n",
       "    .dataframe tbody tr th:only-of-type {\n",
       "        vertical-align: middle;\n",
       "    }\n",
       "\n",
       "    .dataframe tbody tr th {\n",
       "        vertical-align: top;\n",
       "    }\n",
       "\n",
       "    .dataframe thead th {\n",
       "        text-align: right;\n",
       "    }\n",
       "</style>\n",
       "<table border=\"1\" class=\"dataframe\">\n",
       "  <thead>\n",
       "    <tr style=\"text-align: right;\">\n",
       "      <th></th>\n",
       "      <th>unit_name</th>\n",
       "      <th>assignment_name</th>\n",
       "      <th>points</th>\n",
       "      <th>due_date</th>\n",
       "      <th>lms_column_id</th>\n",
       "    </tr>\n",
       "  </thead>\n",
       "  <tbody>\n",
       "    <tr>\n",
       "      <th>0</th>\n",
       "      <td>A</td>\n",
       "      <td>A1.ipynb</td>\n",
       "      <td>5</td>\n",
       "      <td>2024-01-05 23:59</td>\n",
       "      <td>342634</td>\n",
       "    </tr>\n",
       "    <tr>\n",
       "      <th>1</th>\n",
       "      <td>A</td>\n",
       "      <td>A2.ipynb</td>\n",
       "      <td>5</td>\n",
       "      <td>2024-01-06 23:59</td>\n",
       "      <td>342123</td>\n",
       "    </tr>\n",
       "  </tbody>\n",
       "</table>\n",
       "</div>"
      ],
      "text/plain": [
       "  unit_name assignment_name  points          due_date  lms_column_id\n",
       "0         A        A1.ipynb       5  2024-01-05 23:59         342634\n",
       "1         A        A2.ipynb       5  2024-01-06 23:59         342123"
      ]
     },
     "execution_count": 18,
     "metadata": {},
     "output_type": "execute_result"
    }
   ],
   "source": [
    "course_dict = client.get_course(course_key)\n",
    "assign = client.get_course_assignments(course_key)\n",
    "assign"
   ]
  },
  {
   "cell_type": "code",
   "execution_count": 19,
   "id": "8e87642e-3dc3-4b79-9f2d-67c6d6d87b12",
   "metadata": {
    "tags": []
   },
   "outputs": [
    {
     "data": {
      "text/html": [
       "<div>\n",
       "<style scoped>\n",
       "    .dataframe tbody tr th:only-of-type {\n",
       "        vertical-align: middle;\n",
       "    }\n",
       "\n",
       "    .dataframe tbody tr th {\n",
       "        vertical-align: top;\n",
       "    }\n",
       "\n",
       "    .dataframe thead th {\n",
       "        text-align: right;\n",
       "    }\n",
       "</style>\n",
       "<table border=\"1\" class=\"dataframe\">\n",
       "  <thead>\n",
       "    <tr style=\"text-align: right;\">\n",
       "      <th></th>\n",
       "      <th>student</th>\n",
       "      <th>instructor</th>\n",
       "      <th>grader</th>\n",
       "    </tr>\n",
       "  </thead>\n",
       "  <tbody>\n",
       "    <tr>\n",
       "      <th>0</th>\n",
       "      <td>mafudge@syr.edu</td>\n",
       "      <td>mafudge@syr.edu</td>\n",
       "      <td>mafudge@syr.edu</td>\n",
       "    </tr>\n",
       "    <tr>\n",
       "      <th>1</th>\n",
       "      <td>dlnosky@syr.edu</td>\n",
       "      <td>mafudge@syr.edu</td>\n",
       "      <td>mafudge@syr.edu</td>\n",
       "    </tr>\n",
       "  </tbody>\n",
       "</table>\n",
       "</div>"
      ],
      "text/plain": [
       "           student       instructor           grader\n",
       "0  mafudge@syr.edu  mafudge@syr.edu  mafudge@syr.edu\n",
       "1  dlnosky@syr.edu  mafudge@syr.edu  mafudge@syr.edu"
      ]
     },
     "execution_count": 19,
     "metadata": {},
     "output_type": "execute_result"
    }
   ],
   "source": [
    "roster = client.get_course_roster(course_key)\n",
    "roster"
   ]
  },
  {
   "cell_type": "code",
   "execution_count": 20,
   "id": "08f76174-ddb4-4bf4-afe3-79c893cf45be",
   "metadata": {
    "tags": []
   },
   "outputs": [
    {
     "data": {
      "text/plain": [
       "['tst101/spring2024/A/A1.ipynb', 'tst101/spring2024/A/A2.ipynb']"
      ]
     },
     "execution_count": 20,
     "metadata": {},
     "output_type": "execute_result"
    }
   ],
   "source": [
    "client.get_course_assignment_names(course_key)"
   ]
  },
  {
   "cell_type": "code",
   "execution_count": 21,
   "id": "137202e6-08b4-491f-bcde-e5de38668bdd",
   "metadata": {
    "tags": []
   },
   "outputs": [
    {
     "data": {
      "text/plain": [
       "{'valid': True,\n",
       " 'last_activity': '2024-01-07T00:51:24.350044Z',\n",
       " 'name': 'mafudge@syr.edu',\n",
       " 'admin': True,\n",
       " 'kind': 'user',\n",
       " 'groups': [],\n",
       " 'fake_token': False,\n",
       " 'course_key': 'tst101-spring2024',\n",
       " 'student': True,\n",
       " 'instructor': True,\n",
       " 'grader': True}"
      ]
     },
     "execution_count": 21,
     "metadata": {},
     "output_type": "execute_result"
    }
   ],
   "source": [
    "client.get_user_course_info(course_key)"
   ]
  },
  {
   "cell_type": "code",
   "execution_count": 4,
   "id": "da160782-77a8-4274-b3a1-e267b41c630e",
   "metadata": {},
   "outputs": [],
   "source": [
    "course = Course(course_dict)"
   ]
  },
  {
   "cell_type": "code",
   "execution_count": 11,
   "id": "9ed2de21-f0fe-4114-80c6-f1f2bf3ead53",
   "metadata": {},
   "outputs": [
    {
     "data": {
      "text/plain": [
       "True"
      ]
     },
     "execution_count": 11,
     "metadata": {},
     "output_type": "execute_result"
    }
   ],
   "source": [
    "course.term_folder_is_git"
   ]
  },
  {
   "cell_type": "code",
   "execution_count": 4,
   "id": "cab6333d-fa7b-4af6-a34a-a6e1cbacaa43",
   "metadata": {},
   "outputs": [
    {
     "data": {
      "text/plain": [
       "{'valid': True,\n",
       " 'last_activity': 'fake',\n",
       " 'name': 'mafudge@syr.edu',\n",
       " 'admin': True,\n",
       " 'kind': None,\n",
       " 'groups': [],\n",
       " 'fake_token': True}"
      ]
     },
     "execution_count": 4,
     "metadata": {},
     "output_type": "execute_result"
    }
   ],
   "source": [
    "client.whoami()"
   ]
  },
  {
   "cell_type": "code",
   "execution_count": 5,
   "id": "1b6a127b-0b57-495b-b026-b4ecc6ea20ec",
   "metadata": {},
   "outputs": [
    {
     "data": {
      "text/plain": [
       "'/home/jovyan/library/git/teaching-tools/_new_/Admin.ipynb'"
      ]
     },
     "execution_count": 5,
     "metadata": {},
     "output_type": "execute_result"
    }
   ],
   "source": [
    "filespec = PathParser()\n",
    "filespec.fullpath"
   ]
  },
  {
   "cell_type": "code",
   "execution_count": 7,
   "id": "402068a5-bb1b-48e6-b3d0-1458587f9a39",
   "metadata": {},
   "outputs": [
    {
     "data": {
      "text/plain": [
       "{'etag': '1384fc27faa6725c3ae1cda8bbbea708',\n",
       " 'bucket': 'cass',\n",
       " 'object': 'ist256-spring2024/submit/mafudge@syr.edu/00-testing/testing.ipynb/mafudge@syr.edu/admin.ipynb',\n",
       " 'operation': 'put'}"
      ]
     },
     "execution_count": 7,
     "metadata": {},
     "output_type": "execute_result"
    }
   ],
   "source": [
    "client.submit_assignment(course_key,filespec.fullpath, \"testing.ipynb\",\"mafudge@syr.edu\")"
   ]
  },
  {
   "cell_type": "markdown",
   "id": "30907233-f2f6-4d3b-9157-72f7d5fd18e6",
   "metadata": {},
   "source": []
  },
  {
   "cell_type": "code",
   "execution_count": null,
   "id": "e86c4d41-556c-498a-855a-e9935c971f3f",
   "metadata": {},
   "outputs": [],
   "source": []
  },
  {
   "cell_type": "code",
   "execution_count": 12,
   "id": "376513aa-a381-4bb5-9424-b931307338df",
   "metadata": {},
   "outputs": [],
   "source": []
  },
  {
   "cell_type": "code",
   "execution_count": null,
   "id": "63ee8ba4-46b8-47a7-b351-87ef4e8934b1",
   "metadata": {},
   "outputs": [],
   "source": []
  },
  {
   "cell_type": "code",
   "execution_count": 10,
   "id": "fff12086-c18d-46e4-8934-a8fb2b0d0440",
   "metadata": {},
   "outputs": [
    {
     "name": "stdout",
     "output_type": "stream",
     "text": [
      "/home/jovyan/library/git/teaching-tools/_new_/Admin.ipynb\n"
     ]
    },
    {
     "data": {
      "text/plain": [
       "<submission.Submission at 0x7f652db8ce50>"
      ]
     },
     "execution_count": 10,
     "metadata": {},
     "output_type": "execute_result"
    }
   ],
   "source": []
  },
  {
   "cell_type": "code",
   "execution_count": null,
   "id": "6052a429-3c89-406b-bfee-589c28435e77",
   "metadata": {},
   "outputs": [],
   "source": []
  },
  {
   "cell_type": "code",
   "execution_count": 4,
   "id": "9d436230-d916-438d-9350-dfadf066efb7",
   "metadata": {
    "tags": []
   },
   "outputs": [],
   "source": [
    "import coursetools"
   ]
  },
  {
   "cell_type": "code",
   "execution_count": 5,
   "id": "d89d2d2d-f0ea-47fb-a98e-7c03b696f9fb",
   "metadata": {
    "tags": []
   },
   "outputs": [
    {
     "ename": "ModuleNotFoundError",
     "evalue": "No module named 'casstools'",
     "output_type": "error",
     "traceback": [
      "\u001b[0;31m---------------------------------------------------------------------------\u001b[0m",
      "\u001b[0;31mModuleNotFoundError\u001b[0m                       Traceback (most recent call last)",
      "Cell \u001b[0;32mIn[5], line 1\u001b[0m\n\u001b[0;32m----> 1\u001b[0m \u001b[38;5;28;01mimport\u001b[39;00m \u001b[38;5;21;01mcasstools\u001b[39;00m\n",
      "\u001b[0;31mModuleNotFoundError\u001b[0m: No module named 'casstools'"
     ]
    }
   ],
   "source": [
    "import casstools"
   ]
  },
  {
   "cell_type": "code",
   "execution_count": null,
   "id": "2fd25e25-badb-4827-85d4-a9f1cde71a87",
   "metadata": {},
   "outputs": [],
   "source": []
  }
 ],
 "metadata": {
  "kernelspec": {
   "display_name": "Python 3 (ipykernel)",
   "language": "python",
   "name": "python3"
  },
  "language_info": {
   "codemirror_mode": {
    "name": "ipython",
    "version": 3
   },
   "file_extension": ".py",
   "mimetype": "text/x-python",
   "name": "python",
   "nbconvert_exporter": "python",
   "pygments_lexer": "ipython3",
   "version": "3.11.7"
  }
 },
 "nbformat": 4,
 "nbformat_minor": 5
}
