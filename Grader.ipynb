{
 "cells": [
  {
   "cell_type": "code",
   "execution_count": 1,
   "id": "cfd7cb46-64ff-4abe-a8ff-178fb932a1f9",
   "metadata": {
    "tags": []
   },
   "outputs": [
    {
     "name": "stdout",
     "output_type": "stream",
     "text": [
      "importing Jupyter notebook from SetCourse.ipynb\n"
     ]
    }
   ],
   "source": [
    "import import_ipynb\n",
    "from SetCourse import set_course"
   ]
  },
  {
   "cell_type": "code",
   "execution_count": 2,
   "id": "7b787a60-71ef-4118-b5c5-91e8969cc186",
   "metadata": {
    "tags": []
   },
   "outputs": [
    {
     "data": {
      "text/html": [
       "<h3>Set Current Course</h3>"
      ],
      "text/plain": [
       "<IPython.core.display.HTML object>"
      ]
     },
     "metadata": {},
     "output_type": "display_data"
    },
    {
     "data": {
      "application/vnd.jupyter.widget-view+json": {
       "model_id": "ab40f28ca54449c58e80e48285cc5f2f",
       "version_major": 2,
       "version_minor": 0
      },
      "text/plain": [
       "Dropdown(description='Course:', index=1, layout=Layout(width='max-content'), options=('ist256-spring2024', 'ts…"
      ]
     },
     "metadata": {},
     "output_type": "display_data"
    },
    {
     "data": {
      "application/vnd.jupyter.widget-view+json": {
       "model_id": "8a2740866ffd42189c4b77803dbc5204",
       "version_major": 2,
       "version_minor": 0
      },
      "text/plain": [
       "ToggleButtons(layout=Layout(width='max-content'), options=('Assignments', 'Roster'), tooltips=('View Assignmen…"
      ]
     },
     "metadata": {},
     "output_type": "display_data"
    },
    {
     "data": {
      "application/vnd.jupyter.widget-view+json": {
       "model_id": "cb1f565b81c84b4ab6293ef2119d51e6",
       "version_major": 2,
       "version_minor": 0
      },
      "text/plain": [
       "Output()"
      ]
     },
     "metadata": {},
     "output_type": "display_data"
    }
   ],
   "source": [
    "set_course()"
   ]
  },
  {
   "cell_type": "code",
   "execution_count": null,
   "id": "88eaa7b4-2e79-4007-958e-7149fba21dc1",
   "metadata": {},
   "outputs": [],
   "source": []
  }
 ],
 "metadata": {
  "kernelspec": {
   "display_name": "Python 3 (ipykernel)",
   "language": "python",
   "name": "python3"
  },
  "language_info": {
   "codemirror_mode": {
    "name": "ipython",
    "version": 3
   },
   "file_extension": ".py",
   "mimetype": "text/x-python",
   "name": "python",
   "nbconvert_exporter": "python",
   "pygments_lexer": "ipython3",
   "version": "3.11.7"
  }
 },
 "nbformat": 4,
 "nbformat_minor": 5
}
