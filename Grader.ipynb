{
 "cells": [
  {
   "cell_type": "code",
   "execution_count": 1,
   "id": "d1d83a6a-a20f-4a8c-84b0-01ebe0b761aa",
   "metadata": {
    "tags": []
   },
   "outputs": [
    {
     "name": "stdout",
     "output_type": "stream",
     "text": [
      "importing Jupyter notebook from RunGrader.ipynb\n",
      "importing Jupyter notebook from GradingTools.ipynb\n",
      "importing Jupyter notebook from SetCourse.ipynb\n",
      "importing Jupyter notebook from GetAssignments.ipynb\n",
      "importing Jupyter notebook from BlackboardGradebook.ipynb\n"
     ]
    },
    {
     "data": {
      "application/vnd.jupyter.widget-view+json": {
       "model_id": "68f50b3b6c454741b2e439cb8214cb90",
       "version_major": 2,
       "version_minor": 0
      },
      "text/plain": [
       "Text(value='0.1.2-20240125', description='Version:', disabled=True)"
      ]
     },
     "metadata": {},
     "output_type": "display_data"
    },
    {
     "data": {
      "application/vnd.jupyter.widget-view+json": {
       "model_id": "78bd78f41e264d9587b4cc0fca166059",
       "version_major": 2,
       "version_minor": 0
      },
      "text/plain": [
       "Text(value='mafudge@syr.edu', description='Grader:', disabled=True)"
      ]
     },
     "metadata": {},
     "output_type": "display_data"
    },
    {
     "data": {
      "application/vnd.jupyter.widget-view+json": {
       "model_id": "e3085b9c593e48d08ad4c334e901768a",
       "version_major": 2,
       "version_minor": 0
      },
      "text/plain": [
       "interactive(children=(Dropdown(description='Command', options=('Get Course Assignments', 'Create Blackboard Fi…"
      ]
     },
     "metadata": {},
     "output_type": "display_data"
    }
   ],
   "source": [
    "import import_ipynb\n",
    "import RunGrader"
   ]
  },
  {
   "cell_type": "code",
   "execution_count": null,
   "id": "c18ce81d-fda8-47d1-a815-f4398dbd7c82",
   "metadata": {},
   "outputs": [],
   "source": []
  },
  {
   "cell_type": "code",
   "execution_count": null,
   "id": "06890352-5bac-477b-9036-ae743a2b40fd",
   "metadata": {},
   "outputs": [],
   "source": []
  }
 ],
 "metadata": {
  "kernelspec": {
   "display_name": "Python 3 (ipykernel)",
   "language": "python",
   "name": "python3"
  },
  "language_info": {
   "codemirror_mode": {
    "name": "ipython",
    "version": 3
   },
   "file_extension": ".py",
   "mimetype": "text/x-python",
   "name": "python",
   "nbconvert_exporter": "python",
   "pygments_lexer": "ipython3",
   "version": "3.11.7"
  }
 },
 "nbformat": 4,
 "nbformat_minor": 5
}
