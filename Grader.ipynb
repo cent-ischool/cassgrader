{
 "cells": [
  {
   "cell_type": "code",
   "execution_count": 7,
   "id": "cfd7cb46-64ff-4abe-a8ff-178fb932a1f9",
   "metadata": {
    "tags": []
   },
   "outputs": [
    {
     "data": {
      "application/vnd.jupyter.widget-view+json": {
       "model_id": "40740510cd9543bcbf0eedf3f5d539cb",
       "version_major": 2,
       "version_minor": 0
      },
      "text/plain": [
       "interactive(children=(Dropdown(description='Command', options=('Set Course', 'Get Course Assignments'), value=…"
      ]
     },
     "metadata": {},
     "output_type": "display_data"
    }
   ],
   "source": [
    "from ipywidgets import interact\n",
    "import import_ipynb\n",
    "from SetCourse import set_course\n",
    "from GetAssignments import get_assignments\n",
    "\n",
    "@interact(Command = [\"Set Course\", \"Get Course Assignments\"])\n",
    "def on_select(Command):\n",
    "    if Command == \"Set Course\":\n",
    "        set_course()\n",
    "    if Command == \"Get Course Assignments\":\n",
    "        get_assignments()"
   ]
  },
  {
   "cell_type": "code",
   "execution_count": null,
   "id": "7b787a60-71ef-4118-b5c5-91e8969cc186",
   "metadata": {
    "tags": []
   },
   "outputs": [],
   "source": []
  },
  {
   "cell_type": "code",
   "execution_count": null,
   "id": "88eaa7b4-2e79-4007-958e-7149fba21dc1",
   "metadata": {},
   "outputs": [],
   "source": []
  },
  {
   "cell_type": "code",
   "execution_count": null,
   "id": "4bb34dad-6733-4174-9f8e-07eceba39e30",
   "metadata": {},
   "outputs": [],
   "source": []
  }
 ],
 "metadata": {
  "kernelspec": {
   "display_name": "Python 3 (ipykernel)",
   "language": "python",
   "name": "python3"
  },
  "language_info": {
   "codemirror_mode": {
    "name": "ipython",
    "version": 3
   },
   "file_extension": ".py",
   "mimetype": "text/x-python",
   "name": "python",
   "nbconvert_exporter": "python",
   "pygments_lexer": "ipython3",
   "version": "3.11.7"
  }
 },
 "nbformat": 4,
 "nbformat_minor": 5
}
