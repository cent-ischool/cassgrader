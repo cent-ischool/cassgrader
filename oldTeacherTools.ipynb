{
 "cells": [
  {
   "cell_type": "code",
   "execution_count": 33,
   "id": "88f6fc44-f5c9-4997-b0c6-52f749f66833",
   "metadata": {},
   "outputs": [],
   "source": [
    "from IPython.display import display, HTML\n",
    "from ipywidgets import interact, interactive, fixed, interact_manual\n",
    "import ipywidgets as widgets\n",
    "from datetime import datetime\n",
    "from dateutil import parser, tz\n",
    "import pandas as pd\n",
    "\n",
    "def run():\n",
    "    \n",
    "    def calc_status(lesson, assignment_file,bbcolumn):\n",
    "        return \"N/A\"\n",
    "        # if parser.parse(assignment_date.value)>= parser.parse(datetime.now().isoformat()):\n",
    "        #     return \"Not Due Yet\"\n",
    "        # elif not tt.is_fetched(lesson,assignment_file):\n",
    "        #     return \"Can Be Fetched\"\n",
    "        # elif not tt.bbfile_exists(bbcolumn):\n",
    "        #     return \"Fetched\"\n",
    "        # else:\n",
    "        #     return \"BB File Created\"\n",
    "            \n",
    "    display(HTML(f\"<h2>Teacher Tools:</h2>\"))\n",
    "    df = pd.read_csv(\"admin/data/tst101-assignments.csv\")\n",
    "    \n",
    "    lesson_col = df.columns[0]\n",
    "    assignment_col = df.columns[1]\n",
    "    points_col = df.columns[2]\n",
    "    duedate_col = df.columns[3]\n",
    "    bb_col = df.columns[4]\n",
    "\n",
    "#     #df['duedatedt'] = df.apply( lambda row: parser.parse(row[duedate_col]), axis=1)\n",
    "    units = df[lesson_col].unique().tolist()\n",
    "    \n",
    "    course_dropdown = widgets.Dropdown(\n",
    "        options=['tst101-spring2024', 'ist256-spring2024'],\n",
    "        value='tst101-spring2024',\n",
    "        description='Course:',\n",
    "        layout={'width': 'max-content'},\n",
    "        disabled=False\n",
    "    )\n",
    "    \n",
    "    cmd = widgets.ToggleButtons(\n",
    "        options=['View', 'Fetch', 'Blackboard'],\n",
    "        description='Action:',\n",
    "        disabled=False,\n",
    "        button_style='', # 'success', 'info', 'warning', 'danger' or ''\n",
    "        tooltips=['View Assignment Details And Status of Assignments', 'Fetch Submissions From Students', 'Create Blackboard File From Graded Assignments'],\n",
    "        icons=['search', 'download', 'graduation-cap'],\n",
    "        layout={'width': 'max-content'}\n",
    "    )\n",
    "\n",
    "    unit_dropdown = widgets.Dropdown(\n",
    "        options=units,\n",
    "        value=units[0],\n",
    "        description='Lesson:',\n",
    "        layout={'width': 'max-content'},\n",
    "        disabled=False\n",
    "    )\n",
    "\n",
    "    assignment_dropdown = widgets.Dropdown(\n",
    "        options=df[df[lesson_col] == unit_dropdown.value].sort_values(assignment_col)[assignment_col].unique().tolist(),\n",
    "        description='Assignment:',\n",
    "        layout={'width': 'max-content'},\n",
    "        disabled=False\n",
    "    )\n",
    "\n",
    "    assignment_date = widgets.Text(\n",
    "        value=df[ df[assignment_col] == assignment_dropdown.value][duedate_col].values[0],\n",
    "        description='Due Date:',\n",
    "        disabled=True\n",
    "    )\n",
    "\n",
    "    assignment_points = widgets.Text(\n",
    "        value=str(df[ df[assignment_col] == assignment_dropdown.value][points_col].values[0]),\n",
    "        description='Total Points:',\n",
    "        disabled=True\n",
    "    )\n",
    "\n",
    "    assignment_bbcolumn = widgets.Text(\n",
    "        value=str(df[ df[assignment_col] == assignment_dropdown.value][bb_col].values[0]),\n",
    "        description='BB Column:',\n",
    "        disabled=True\n",
    "    )\n",
    "\n",
    "    assignment_status = widgets.Text(\n",
    "        value=calc_status(unit_dropdown.value,assignment_dropdown.value,assignment_bbcolumn.value),\n",
    "        description='Status:',\n",
    "        disabled=True\n",
    "    )\n",
    "\n",
    "    template_dropdown = widgets.Dropdown(\n",
    "        options=[\"X\",\"Y\"], # tt.get_templates(),\n",
    "        description='Template:',\n",
    "        layout={'width': 'max-content'},\n",
    "        disabled=False\n",
    "    )\n",
    "\n",
    "    button = widgets.Button(\n",
    "        description=\"Select Assignment\",        \n",
    "        icon=\"check\",\n",
    "        button_style='primary',\n",
    "        layout={'width': 'max-content'},\n",
    "        disabled = False)\n",
    "    \n",
    "    output = widgets.Output()\n",
    "            \n",
    "\n",
    "    #handlers\n",
    "    def cmd_on_change(*args):\n",
    "        button.description = cmd.value\n",
    "        button.icon = cmd.icons[cmd.index]\n",
    "        if cmd.index == 0:\n",
    "            button.layout.display = 'none' \n",
    "        else:\n",
    "            button.layout.display = None\n",
    "        if cmd.index == 1:\n",
    "            template_dropdown.layout.display = None \n",
    "        else:\n",
    "            template_dropdown.layout.display = 'none'\n",
    "            \n",
    "        \n",
    "    def unit_dropdown_on_change(*args):\n",
    "        assignment_dropdown.options = df[df[lesson_col] == unit_dropdown.value].sort_values(assignment_col)[assignment_col].unique().tolist()\n",
    "\n",
    "    def assignment_dropdown_on_change(*args):\n",
    "        assignment_date.value = df[ df[assignment_col] == assignment_dropdown.value][duedate_col].values[0]\n",
    "        assignment_points.value=str(df[ df[assignment_col] == assignment_dropdown.value][points_col].values[0])\n",
    "        assignment_bbcolumn.value=str(df[ df[assignment_col] == assignment_dropdown.value][bb_col].values[0])\n",
    "        assignment_status.value=calc_status(unit_dropdown.value,assignment_dropdown.value,assignment_bbcolumn.value)\n",
    "\n",
    "\n",
    "    def on_button_clicked(b):\n",
    "        with output:\n",
    "            clear_output()\n",
    "            if cmd.index ==  1:\n",
    "                count, folder_count = tt.fetch_assignments(unit_dropdown.value,assignment_dropdown.value,template_dropdown.value)            \n",
    "                display(HTML(f\"Fetched {count} new assignments. {folder_count} assignments total.\"))\n",
    "            elif cmd.index == 2:\n",
    "                count, grades_file = tt.create_bb_file(unit_dropdown.value,assignment_dropdown.value,assignment_bbcolumn.value)\n",
    "                display(HTML(f\"{count} assignments added to grades file: {grades_file}\"))\n",
    "    \n",
    "\n",
    "    #events\n",
    "    cmd.observe(cmd_on_change)\n",
    "    unit_dropdown.observe(unit_dropdown_on_change)\n",
    "    assignment_dropdown.observe(assignment_dropdown_on_change)\n",
    "    button.on_click(on_button_clicked)\n",
    "\n",
    "    #draw\n",
    "    display(course_dropdown)\n",
    "    display(cmd,unit_dropdown, assignment_dropdown, assignment_date, assignment_points, assignment_bbcolumn, assignment_status, template_dropdown, button, output)\n",
    "    cmd_on_change()\n",
    "    assignment_dropdown_on_change()\n",
    "    \n",
    "    \n",
    "\n"
   ]
  },
  {
   "cell_type": "code",
   "execution_count": 34,
   "id": "ddf8a569-84dd-4714-b831-c115b7b5e619",
   "metadata": {
    "tags": []
   },
   "outputs": [
    {
     "data": {
      "text/html": [
       "<h2>Teacher Tools:</h2>"
      ],
      "text/plain": [
       "<IPython.core.display.HTML object>"
      ]
     },
     "metadata": {},
     "output_type": "display_data"
    },
    {
     "data": {
      "application/vnd.jupyter.widget-view+json": {
       "model_id": "24d702efcc30478ca925e7c5dee142d7",
       "version_major": 2,
       "version_minor": 0
      },
      "text/plain": [
       "Dropdown(description='Course:', layout=Layout(width='max-content'), options=('tst101-spring2024', 'ist256-spri…"
      ]
     },
     "metadata": {},
     "output_type": "display_data"
    },
    {
     "data": {
      "application/vnd.jupyter.widget-view+json": {
       "model_id": "53df61d2a24542b4868bb496e79ca09f",
       "version_major": 2,
       "version_minor": 0
      },
      "text/plain": [
       "ToggleButtons(description='Action:', icons=('search', 'download', 'graduation-cap'), layout=Layout(width='max-…"
      ]
     },
     "metadata": {},
     "output_type": "display_data"
    },
    {
     "data": {
      "application/vnd.jupyter.widget-view+json": {
       "model_id": "d833a4f6e184435499e3649182e51659",
       "version_major": 2,
       "version_minor": 0
      },
      "text/plain": [
       "Dropdown(description='Lesson:', layout=Layout(width='max-content'), options=('A',), value='A')"
      ]
     },
     "metadata": {},
     "output_type": "display_data"
    },
    {
     "data": {
      "application/vnd.jupyter.widget-view+json": {
       "model_id": "3a092f77a26b4189a6412faa3d8af2b4",
       "version_major": 2,
       "version_minor": 0
      },
      "text/plain": [
       "Dropdown(description='Assignment:', layout=Layout(width='max-content'), options=('A1.ipynb', 'A2.ipynb'), valu…"
      ]
     },
     "metadata": {},
     "output_type": "display_data"
    },
    {
     "data": {
      "application/vnd.jupyter.widget-view+json": {
       "model_id": "4079c7d91a9f409e8c18a43eca894e79",
       "version_major": 2,
       "version_minor": 0
      },
      "text/plain": [
       "Text(value='2024-01-05 23:59', description='Due Date:', disabled=True)"
      ]
     },
     "metadata": {},
     "output_type": "display_data"
    },
    {
     "data": {
      "application/vnd.jupyter.widget-view+json": {
       "model_id": "b209ba75114240918e2e4540f7e5abe9",
       "version_major": 2,
       "version_minor": 0
      },
      "text/plain": [
       "Text(value='5', description='Total Points:', disabled=True)"
      ]
     },
     "metadata": {},
     "output_type": "display_data"
    },
    {
     "data": {
      "application/vnd.jupyter.widget-view+json": {
       "model_id": "60604cad41d24cd9ac1819dbe3724f20",
       "version_major": 2,
       "version_minor": 0
      },
      "text/plain": [
       "Text(value='342634', description='BB Column:', disabled=True)"
      ]
     },
     "metadata": {},
     "output_type": "display_data"
    },
    {
     "data": {
      "application/vnd.jupyter.widget-view+json": {
       "model_id": "6267b890a6bb4c14b40c4f6d9f65f70d",
       "version_major": 2,
       "version_minor": 0
      },
      "text/plain": [
       "Text(value='N/A', description='Status:', disabled=True)"
      ]
     },
     "metadata": {},
     "output_type": "display_data"
    },
    {
     "data": {
      "application/vnd.jupyter.widget-view+json": {
       "model_id": "47aab6524ab24d798d56dce97abf0115",
       "version_major": 2,
       "version_minor": 0
      },
      "text/plain": [
       "Dropdown(description='Template:', layout=Layout(width='max-content'), options=('X', 'Y'), value='X')"
      ]
     },
     "metadata": {},
     "output_type": "display_data"
    },
    {
     "data": {
      "application/vnd.jupyter.widget-view+json": {
       "model_id": "0817613465754760a5cc209d69867b67",
       "version_major": 2,
       "version_minor": 0
      },
      "text/plain": [
       "Button(button_style='primary', description='Select Assignment', icon='check', layout=Layout(width='max-content…"
      ]
     },
     "metadata": {},
     "output_type": "display_data"
    },
    {
     "data": {
      "application/vnd.jupyter.widget-view+json": {
       "model_id": "61831c5f74ad4ca0a870429ece522f8a",
       "version_major": 2,
       "version_minor": 0
      },
      "text/plain": [
       "Output()"
      ]
     },
     "metadata": {},
     "output_type": "display_data"
    }
   ],
   "source": [
    "if __name__ == \"__main__\":\n",
    "    run()"
   ]
  },
  {
   "cell_type": "code",
   "execution_count": null,
   "id": "46e90d39-0d5c-4faa-9ca4-3c659f68dcab",
   "metadata": {},
   "outputs": [],
   "source": []
  },
  {
   "cell_type": "code",
   "execution_count": null,
   "id": "652bee0a-96af-46fa-8566-d3913c348d2d",
   "metadata": {},
   "outputs": [],
   "source": []
  }
 ],
 "metadata": {
  "kernelspec": {
   "display_name": "Python 3 (ipykernel)",
   "language": "python",
   "name": "python3"
  },
  "language_info": {
   "codemirror_mode": {
    "name": "ipython",
    "version": 3
   },
   "file_extension": ".py",
   "mimetype": "text/x-python",
   "name": "python",
   "nbconvert_exporter": "python",
   "pygments_lexer": "ipython3",
   "version": "3.11.7"
  }
 },
 "nbformat": 4,
 "nbformat_minor": 5
}
